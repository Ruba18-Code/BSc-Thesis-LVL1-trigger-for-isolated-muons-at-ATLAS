{
 "cells": [
  {
   "cell_type": "markdown",
   "id": "5de7cf9c",
   "metadata": {},
   "source": [
    "1. Compare plot (done)\n",
    "2. Normalise    (done)\n",
    "3. Scale 0 bias to represent a rate \n",
    "4. Plot Z peak (done?)\n",
    "5. Read paper"
   ]
  },
  {
   "cell_type": "markdown",
   "id": "9967930b",
   "metadata": {},
   "source": [
    "To be able to manipulate root files using python we can import uproot "
   ]
  },
  {
   "cell_type": "code",
   "execution_count": 2,
   "id": "8280fb1d",
   "metadata": {},
   "outputs": [],
   "source": [
    "import uproot\n",
    "import numpy as np #math and science package\n",
    "import scipy as sp #math and science package\n",
    "import awkward as ak #root files are usuallt awkward arrays \n",
    "import matplotlib.pyplot as plt #plot stuff7\n",
    "from my_functions import histogram\n",
    "from my_functions import histogram2"
   ]
  },
  {
   "cell_type": "code",
   "execution_count": 3,
   "id": "55746c99",
   "metadata": {},
   "outputs": [
    {
     "data": {
      "text/plain": [
       "['MuonTree_Zmumu;1', 'MuonTree_ZeroBias;1']"
      ]
     },
     "execution_count": 3,
     "metadata": {},
     "output_type": "execute_result"
    }
   ],
   "source": [
    "file= uproot.open(\"/home/ruben/Escritorio/BachelorThesisRuben/Data/Muon_trees.root\") #opening the Root file with Uproot \n",
    "\n",
    "file.keys() #Here we can see the keys of the file (index)"
   ]
  },
  {
   "cell_type": "code",
   "execution_count": null,
   "id": "604eb504",
   "metadata": {},
   "outputs": [
    {
     "name": "stdout",
     "output_type": "stream",
     "text": [
      "name                 | typename                 | interpretation                \n",
      "---------------------+--------------------------+-------------------------------\n",
      "muon_pt              | std::vector<float>       | AsJagged(AsDtype('>f4'), he...\n",
      "muon_eta             | std::vector<float>       | AsJagged(AsDtype('>f4'), he...\n",
      "muon_phi             | std::vector<float>       | AsJagged(AsDtype('>f4'), he...\n",
      "muon_e               | std::vector<float>       | AsJagged(AsDtype('>f4'), he...\n",
      "muon_type            | std::vector<int32_t>     | AsJagged(AsDtype('>i4'), he...\n",
      "muon_charge          | std::vector<float>       | AsJagged(AsDtype('>f4'), he...\n",
      "muon_author          | std::vector<int32_t>     | AsJagged(AsDtype('>i4'), he...\n",
      "muon_quality         | std::vector<int32_t>     | AsJagged(AsDtype('>i4'), he...\n",
      "muon_passedIDCuts    | std::vector<bool>        | AsJagged(AsDtype('bool'), h...\n",
      "jTower_et            | std::vector<float>       | AsJagged(AsDtype('>f4'), he...\n",
      "jTower_et_MeV        | std::vector<float>       | AsJagged(AsDtype('>f4'), he...\n",
      "jTower_eta           | std::vector<float>       | AsJagged(AsDtype('>f4'), he...\n",
      "jTower_phi           | std::vector<float>       | AsJagged(AsDtype('>f4'), he...\n",
      "jTower_calosource    | std::vector<int32_t>     | AsJagged(AsDtype('>i4'), he...\n",
      "jTower_isCore        | std::vector<bool>        | AsJagged(AsDtype('bool'), h...\n",
      "LVL1Muon_et          | std::vector<float>       | AsJagged(AsDtype('>f4'), he...\n",
      "LVL1Muon_eta         | std::vector<float>       | AsJagged(AsDtype('>f4'), he...\n",
      "LVL1Muon_phi         | std::vector<float>       | AsJagged(AsDtype('>f4'), he...\n",
      "LVL1Muon_source      | std::vector<int32_t>     | AsJagged(AsDtype('>i4'), he...\n",
      "[[], [], [], [], [], [], [], [], [], ..., [], [], [], [], [], [], [], [], []]\n"
     ]
    }
   ],
   "source": [
    "tree=file[\"MuonTree_ZeroBias;1\"] #here we assign one of the keys to a variable \n",
    "tree.show() #by saying .show we display the list below, where we can see the datasets contained by \"tree\"\n",
    "\n",
    "eta = tree[\"LVL1Muon_eta\"].array()\n",
    "eta=ak.to_numpy(ak.flatten(eta)) #these two steps seems to be necessary to get a nice array of data that we can plot\n",
    "\n"
   ]
  },
  {
   "cell_type": "markdown",
   "id": "8d8ea68a",
   "metadata": {},
   "source": [
    "##### \"Eta ($\\eta$)\" is a variable called Pseudorapidity and it represents a location of the ATLAS detector. \n",
    "$\\eta$=0 means the particle went up with respect to the collision point and direction of movement, if $\\eta$ is big, around 4 or more, then the direction of the produced muon has barely changed with respect to the collision\n",
    "\n",
    "Wikipedia: https://en.wikipedia.org/wiki/Pseudorapidity\n",
    "\n",
    "<img src=https://upload.wikimedia.org/wikipedia/commons/thumb/e/ed/Pseudorapidity_plot.svg/800px-Pseudorapidity_plot.svg.png width=300>\n",
    "<img src=https://external-content.duckduckgo.com/iu/?u=https%3A%2F%2Fwww.bnl.gov%2Ftoday%2Fbody_pics%2F2015%2F06%2Fevent_display_run266904-hr.jpg&f=1&nofb=1&ipt=5efb974c4347d361ea100f791f9edc609db7ba627c2d357422afb41f7060f024 width=400>"
   ]
  },
  {
   "cell_type": "code",
   "execution_count": 5,
   "id": "459ed9fb",
   "metadata": {},
   "outputs": [
    {
     "name": "stdout",
     "output_type": "stream",
     "text": [
      "[-0.92943877 -0.3593036   0.2983717  ... -1.9235172   1.8997809\n",
      " -0.46613458]\n"
     ]
    },
    {
     "data": {
      "text/plain": [
       "numpy.ndarray"
      ]
     },
     "execution_count": 5,
     "metadata": {},
     "output_type": "execute_result"
    }
   ],
   "source": [
    "print(eta) #see the values\n",
    "type(eta) #see the type"
   ]
  },
  {
   "cell_type": "code",
   "execution_count": 6,
   "id": "fb34ea44",
   "metadata": {},
   "outputs": [
    {
     "data": {
      "image/png": "[encoded data removed]",
      "text/plain": [
       "<Figure size 640x480 with 1 Axes>"
      ]
     },
     "metadata": {},
     "output_type": "display_data"
    }
   ],
   "source": [
    "from my_functions import histogram\n",
    "data=eta\n",
    "nbins=100\n",
    "x_range=[-3,3]\n",
    "x_label=r\" Pseudorapidity ($\\eta$)\"\n",
    "y_label=\"Counts\"\n",
    "title_label=r\"Muon counts vs pseudorapidity ($\\eta$) LVL1 detector\"\n",
    "histogram(data, nbins, x_range,  x_label, y_label, title_label)"
   ]
  },
  {
   "cell_type": "markdown",
   "id": "404a7fb2",
   "metadata": {},
   "source": [
    "#### Now let's try to extract different information: how many muons are produced in every event (collision)? We aim to create a histogram that relates number of muons per collision in x-axis and counts in y-axis. Let's use for example muon_eta.\n",
    "\n",
    "See results:\n",
    "\n",
    "    1. Function plot_number_mu_per_event\n",
    "    2. File Number_muons_per_event\n",
    "\n",
    "#### Moreover, I'm going to write a function that compares the background and Z mumu data.\n",
    "\n",
    "See results:\n",
    "\n",
    "    1. Function plot_number_mu_per_event2\n",
    "    2. File Number_muons_per_event"
   ]
  },
  {
   "cell_type": "markdown",
   "id": "1edf64c2",
   "metadata": {},
   "source": [
    "#### Improvement of plots\n",
    "The goal now is to keep improving the histogram function: let's add the capacity to normalise the plot and also to compare the Z->mu mu data and the background (unbiased) data by plotting them together. \n",
    "\n",
    "See file my_function to see the improved function (histogram2) and Zmumu_vs_0bias_plots to see the plots"
   ]
  },
  {
   "cell_type": "markdown",
   "id": "b29f338c",
   "metadata": {},
   "source": [
    "#### Next goal is to reconstruct the Z boson peak from the data. The idea is that from eta, phi and p_T of the muons we should be able to calculate the invariant mass of the Z boson, which should be arround 90 GeV/c\n",
    "\n",
    "#### https://en.wikipedia.org/wiki/Invariant_mas\n",
    "#### https://cds.cern.ch/record/2909648/files/main.pdf\n",
    "\n",
    "##### See the file Z_mass_reconstruction.ipyb\n",
    "\n"
   ]
  },
  {
   "cell_type": "markdown",
   "id": "24666998",
   "metadata": {},
   "source": [
    "Offline muons: what are they"
   ]
  },
  {
   "cell_type": "markdown",
   "id": "e111f22f",
   "metadata": {},
   "source": [
    "#### Next steps:\n",
    "1. Add errorbars to plots\n",
    "2. Use only high quaity muons\n",
    "3. Use also 3,4,5... muon events for the Z boson peak: only 2 are real, so the idea is to find out which 2 muons are the good ones (using charge conservation and maybe choosing the best fit between all of them)"
   ]
  },
  {
   "cell_type": "markdown",
   "id": "1a0124cf",
   "metadata": {},
   "source": [
    "Firs I'm going to create a function to use only high quality muons (0 quality). The idea is to select 0 quality muons and then recycle the functions that I already have."
   ]
  }
 ],
 "metadata": {
  "kernelspec": {
   "display_name": "thesis",
   "language": "python",
   "name": "python3"
  },
  "language_info": {
   "codemirror_mode": {
    "name": "ipython",
    "version": 3
   },
   "file_extension": ".py",
   "mimetype": "text/x-python",
   "name": "python",
   "nbconvert_exporter": "python",
   "pygments_lexer": "ipython3",
   "version": "3.13.2"
  }
 },
 "nbformat": 4,
 "nbformat_minor": 5
}
