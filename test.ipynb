{
 "cells": [
  {
   "cell_type": "code",
   "execution_count": 93,
   "metadata": {},
   "outputs": [],
   "source": [
    "from my_functions import*"
   ]
  },
  {
   "cell_type": "code",
   "execution_count": 94,
   "metadata": {},
   "outputs": [],
   "source": [
    "file= uproot.open(\"/home/ruben/Escritorio/BachelorThesisRuben/Data/Muon_trees.root\") #opening the Root file with Uproot "
   ]
  },
  {
   "cell_type": "code",
   "execution_count": 95,
   "metadata": {},
   "outputs": [
    {
     "name": "stderr",
     "output_type": "stream",
     "text": [
      "100%|██████████| 2000/2000 [00:02<00:00, 827.17it/s]\n"
     ]
    }
   ],
   "source": [
    "MuonTree_ZeroBias=file[\"MuonTree_ZeroBias;1\"]\n",
    "MuonTree_Zmumu=file[\"MuonTree_Zmumu;1\"]\n",
    "\n",
    "#Select range of events\n",
    "nmin1=0\n",
    "nmax1=2000\n",
    "\n",
    "#Select quality 0 Z->mumu\n",
    "Zmumu_pt=quality_selector_with_empty(MuonTree_Zmumu[\"muon_quality\"].array(),MuonTree_Zmumu[\"muon_pt\"].array(),0)[nmin1:nmax1]\n",
    "Zmumu_eta=quality_selector_with_empty(MuonTree_Zmumu[\"muon_quality\"].array(),MuonTree_Zmumu[\"muon_eta\"].array(),0)[nmin1:nmax1]\n",
    "Zmumu_phi=quality_selector_with_empty(MuonTree_Zmumu[\"muon_quality\"].array(),MuonTree_Zmumu[\"muon_phi\"].array(),0)[nmin1:nmax1]\n",
    "#And select the Z peak pairs\n",
    "Zmumu_pt1, Zmumu_eta1, Zmumu_phi1= get_all_Z_peak_pairs(Zmumu_pt,Zmumu_eta,Zmumu_phi)\n",
    "\n",
    "nmin2=0\n",
    "nmax2=40000\n",
    "ZeroBias_eta1=energy_cut_with_empty(MuonTree_ZeroBias[\"muon_pt\"].array(), MuonTree_ZeroBias[\"muon_eta\"].array())[nmin2:nmax2]\n",
    "ZeroBias_phi1=energy_cut_with_empty(MuonTree_ZeroBias[\"muon_pt\"].array(), MuonTree_ZeroBias[\"muon_phi\"].array())[nmin2:nmax2]\n",
    "ZeroBias_pt1=energy_cut_with_empty(MuonTree_ZeroBias[\"muon_pt\"].array(), MuonTree_ZeroBias[\"muon_pt\"].array())[nmin2:nmax2]"
   ]
  }
 ],
 "metadata": {
  "kernelspec": {
   "display_name": "thesis",
   "language": "python",
   "name": "python3"
  },
  "language_info": {
   "codemirror_mode": {
    "name": "ipython",
    "version": 3
   },
   "file_extension": ".py",
   "mimetype": "text/x-python",
   "name": "python",
   "nbconvert_exporter": "python",
   "pygments_lexer": "ipython3",
   "version": "3.13.2"
  }
 },
 "nbformat": 4,
 "nbformat_minor": 2
}
