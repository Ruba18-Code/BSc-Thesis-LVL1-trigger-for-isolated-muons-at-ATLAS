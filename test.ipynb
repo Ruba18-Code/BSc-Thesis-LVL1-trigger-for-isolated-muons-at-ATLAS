{
 "cells": [
  {
   "cell_type": "code",
   "execution_count": 2,
   "metadata": {},
   "outputs": [],
   "source": [
    "from my_functions import*"
   ]
  },
  {
   "cell_type": "code",
   "execution_count": 3,
   "metadata": {},
   "outputs": [],
   "source": [
    "file= uproot.open(\"/home/ruben/Escritorio/BachelorThesisRuben/Data/Muon_trees.root\") #opening the Root file with Uproot "
   ]
  },
  {
   "cell_type": "code",
   "execution_count": 4,
   "metadata": {},
   "outputs": [
    {
     "name": "stdout",
     "output_type": "stream",
     "text": [
      "quality_selector: Only 21.265 % of the data has been selected\n",
      "quality_selector: Only 21.265 % of the data has been selected\n",
      "quality_selector: Only 21.265 % of the data has been selected\n"
     ]
    },
    {
     "name": "stderr",
     "output_type": "stream",
     "text": [
      "100%|██████████| 2000/2000 [00:01<00:00, 1262.80it/s]\n"
     ]
    },
    {
     "name": "stdout",
     "output_type": "stream",
     "text": [
      "energy_cut: Only 5.79% of the events have survived the cut with a lower cut of 14000 and no upper cut\n",
      "energy_cut: Only 5.79% of the events have survived the cut with a lower cut of 14000 and no upper cut\n",
      "energy_cut: Only 5.79% of the events have survived the cut with a lower cut of 14000 and no upper cut\n"
     ]
    }
   ],
   "source": [
    "MuonTree_ZeroBias=file[\"MuonTree_ZeroBias;1\"]\n",
    "MuonTree_Zmumu=file[\"MuonTree_Zmumu;1\"]\n",
    "\n",
    "#Select range of events\n",
    "nmin=0\n",
    "nmax=2000\n",
    "\n",
    "#Select quality 0 Z->mumu\n",
    "Zmumu_pt=quality_selector(MuonTree_Zmumu[\"muon_quality\"].array(),MuonTree_Zmumu[\"muon_pt\"].array(),0)[nmin:nmax]\n",
    "Zmumu_eta=quality_selector(MuonTree_Zmumu[\"muon_quality\"].array(),MuonTree_Zmumu[\"muon_eta\"].array(),0)[nmin:nmax]\n",
    "Zmumu_phi=quality_selector(MuonTree_Zmumu[\"muon_quality\"].array(),MuonTree_Zmumu[\"muon_phi\"].array(),0)[nmin:nmax]\n",
    "\n",
    "#And select the Z peak pairs\n",
    "Zmumu_pt, Zmumu_eta, Zmumu_phi = get_all_Z_peak_pairs(Zmumu_pt,Zmumu_eta,Zmumu_phi)\n",
    "\n",
    "#Select the ZeroBias data with energy cut\n",
    "ZeroBias_eta=energy_cut(MuonTree_ZeroBias[\"muon_pt\"].array(), MuonTree_ZeroBias[\"muon_eta\"].array())[nmin:nmax]\n",
    "ZeroBias_phi=energy_cut(MuonTree_ZeroBias[\"muon_pt\"].array(), MuonTree_ZeroBias[\"muon_phi\"].array())[nmin:nmax]\n",
    "ZeroBias_pt=energy_cut(MuonTree_ZeroBias[\"muon_pt\"].array(), MuonTree_ZeroBias[\"muon_pt\"].array())[nmin:nmax]"
   ]
  },
  {
   "cell_type": "code",
   "execution_count": 17,
   "metadata": {},
   "outputs": [],
   "source": [
    "def ROC_FPR_efficiency(MuonTree_Zmumu, MuonTree_ZeroBias, Zmumu_pt, Zmumu_eta, Zmumu_phi, ZeroBias_pt, ZeroBias_eta, ZeroBias_phi,\n",
    "                 event_range: tuple = [0,5000], dr_min: float = 0.05, dr_max: float=0.3, target_efficiency: float=0.9,\n",
    "                   bins: list = np.linspace(0,1,1000)):\n",
    "    \"\"\"\n",
    "    Computes the False Positive Rate (FPR) at a given target signal efficiency (TPR)\n",
    "    for the isolation ROC curves between Zmumu and ZeroBias events.\n",
    "\n",
    "    Inputs:\n",
    "    -MuonTree_Zmumu : tree containing Zmumu data.\n",
    "    -MuonTree_ZeroBias : tree containing ZeroBias data.\n",
    "    -Zmumu_pt/eta/phi or ZeroBias_pt/eta/phi : array containing transverse mometum, eta and phi for Zmumu or ZeroBias\n",
    "    -event_range : tuple of int, range of event indices to use (default is [0, 5000]).\n",
    "    -dr_min : float, minimum delta R used in the ROC computation (default is 0.05).\n",
    "    -dr_max : float, maximum delta R used in the ROC computation (default is 0.3).\n",
    "    -target_efficiency : float, signal efficiency (TPR) to evaluate FPR at (default is 0.9).\n",
    "    -bins : list, bins for the histogram used in ROC computation (default is linspace from 0 to 1 with 1000 bins).\n",
    "\n",
    "    Returns:\n",
    "    -FPR_eff : float, False Positive Rate at the specified target signal efficiency.\n",
    "    dr_min : float, minimum delta R value used in computation.\n",
    "    dr_max : float, maximum delta R value used in computation (for reference).\n",
    "    \"\"\"\n",
    "    nmin, nmax= event_range\n",
    "    ROC_values, _, _ = compute_ROC_curve(MuonTree_Zmumu, MuonTree_ZeroBias, Zmumu_pt, Zmumu_eta, Zmumu_phi, ZeroBias_pt, ZeroBias_eta, ZeroBias_phi,\n",
    "                            [nmin,nmax],[nmin,nmax], bins, [dr_min], [dr_max])\n",
    "    FPR=ROC_values[0][0]\n",
    "    TPR=ROC_values[0][1]\n",
    "    FPR_eff=np.min(FPR[TPR >= target_efficiency])\n",
    "\n",
    "    return FPR_eff, dr_min, dr_max"
   ]
  },
  {
   "cell_type": "code",
   "execution_count": 44,
   "metadata": {},
   "outputs": [],
   "source": [
    "def ROC_FPR_efficiencies(MuonTree_Zmumu, MuonTree_ZeroBias, Zmumu_pt, Zmumu_eta, Zmumu_phi, ZeroBias_pt, ZeroBias_eta, ZeroBias_phi,\n",
    "                 event_range: tuple = [0,5000], dr_min_range: tuple = [0.0,0.2], dr_max_range: tuple=[0.25,0.45],\n",
    "                 steps: int = 4, target_efficiency: float=0.9, bins: list = np.linspace(0,1,1000)):\n",
    "    \"\"\"\n",
    "    Reliying on the ROC_FPR_efficieny function, computes and returns the FPR for a given TPR efficieny for a given set of delta R values\n",
    "\n",
    "    Inputs:\n",
    "    -MuonTree_Zmumu : tree containing Zmumu data.\n",
    "    -MuonTree_ZeroBias : tree containing ZeroBias data.\n",
    "    -Zmumu_pt/eta/phi or ZeroBias_pt/eta/phi : array containing transverse mometum, eta and phi for Zmumu or ZeroBias\n",
    "    -event_range : tuple of int, range of event indices to use (default is [0, 5000]).\n",
    "    -dr_min : list of floats, minimum delta R range used in the ROC computation \n",
    "    -dr_max : list of floats, maximum delta R range used in the ROC computation \n",
    "    -target_efficiency : float, signal efficiency (TPR) to evaluate FPR at (default is 0.9).\n",
    "    -bins : list, bins for the histogram used in ROC computation (default is linspace from 0 to 1 with 1000 bins).\n",
    "\n",
    "    Returns:\n",
    "    -FPR_effs : list of floats, False Positive Rates at the specified target signal efficiency.\n",
    "    dr_min : float, minimum delta R values used in computation.\n",
    "    dr_max : float, maximum delta R values used in computation (for reference).\n",
    "    \"\"\"\n",
    "    dr_mins=np.linspace(dr_min_range[0], dr_min_range[1], steps)\n",
    "    dr_maxs=np.linspace(dr_max_range[0], dr_max_range[1], steps)\n",
    "    FPR_effs=[]\n",
    "    for i in range(steps):\n",
    "        for j in range(len(dr_maxs)):\n",
    "            dr_min, dr_max = dr_mins[i], dr_maxs[j]\n",
    "            FPR_eff, _, _=ROC_FPR_efficiency(MuonTree_Zmumu, MuonTree_ZeroBias, Zmumu_pt, Zmumu_eta, Zmumu_phi, ZeroBias_pt, ZeroBias_eta, ZeroBias_phi,\n",
    "            event_range, dr_min, dr_max, target_efficiency, bins)\n",
    "            FPR_effs.append(FPR_eff)\n",
    "    FPR_effs = np.array(FPR_effs).reshape((steps, steps))\n",
    "    return FPR_effs, dr_mins, dr_maxs"
   ]
  },
  {
   "cell_type": "code",
   "execution_count": 43,
   "metadata": {},
   "outputs": [
    {
     "name": "stderr",
     "output_type": "stream",
     "text": [
      "                                                                  7.80s/it]\r"
     ]
    },
    {
     "data": {
      "text/plain": [
       "(array([[0.85517241, 0.87311178],\n",
       "        [0.80536913, 0.87410072]]),\n",
       " array([0. , 0.2]),\n",
       " array([0.25, 0.45]))"
      ]
     },
     "execution_count": 43,
     "metadata": {},
     "output_type": "execute_result"
    }
   ],
   "source": [
    "ROC_FPR_efficiencies(MuonTree_Zmumu, MuonTree_ZeroBias, Zmumu_pt, Zmumu_eta, Zmumu_phi, ZeroBias_pt, ZeroBias_eta, ZeroBias_phi, event_range=[0,2000])"
   ]
  },
  {
   "cell_type": "code",
   "execution_count": 56,
   "metadata": {},
   "outputs": [],
   "source": [
    "def ROC_FPR_2D_plot(MuonTree_Zmumu, MuonTree_ZeroBias, Zmumu_pt, Zmumu_eta, Zmumu_phi, ZeroBias_pt, ZeroBias_eta, ZeroBias_phi,\n",
    "                 event_range: tuple = [0,5000], dr_min_range: tuple = [0.0,0.2], dr_max_range: tuple=[0.25,0.45],\n",
    "                 steps: int = 4, target_efficiency: float=0.9, bins: list = np.linspace(0,1,1000)):\n",
    "    \"\"\"\n",
    "    Plots a scatterplot containing the FPR(target_efficiency) values for a given dr_min, dr_max grid, relying on the ROC_FPR_efficiencies function \n",
    "\n",
    "    Inputs:\n",
    "    -MuonTree_Zmumu : tree containing Zmumu data.\n",
    "    -MuonTree_ZeroBias : tree containing ZeroBias data.\n",
    "    -Zmumu_pt/eta/phi or ZeroBias_pt/eta/phi : array containing transverse mometum, eta and phi for Zmumu or ZeroBias\n",
    "    -event_range : tuple of int, range of event indices to use (default is [0, 5000]).\n",
    "    -dr_min : list of floats, minimum delta R range used in the ROC computation \n",
    "    -dr_max : list of floats, maximum delta R range used in the ROC computation \n",
    "    -target_efficiency : float, signal efficiency (TPR) to evaluate FPR at (default is 0.9).\n",
    "    -bins : list, bins for the histogram used in ROC computation (default is linspace from 0 to 1 with 1000 bins).\n",
    "\n",
    "    Returns:\n",
    "    -Plot\n",
    "    \"\"\"\n",
    "    FPR_effs, dr_mins, dr_maxs= ROC_FPR_efficiencies(MuonTree_Zmumu, MuonTree_ZeroBias, Zmumu_pt, Zmumu_eta, Zmumu_phi, ZeroBias_pt, ZeroBias_eta, ZeroBias_phi,\n",
    "                         event_range, dr_min_range, dr_max_range, steps, target_efficiency, bins)\n",
    "    \n",
    "    x=dr_mins\n",
    "    y=dr_maxs\n",
    "\n",
    "    x,y = np.meshgrid(x,y)\n",
    "    # Create scatter plot with color representing values\n",
    "    plt.scatter(x, y, c=FPR_effs, cmap='viridis', s=200)  # s controls dot size\n",
    "    plt.colorbar(label='FPR at TPR = {:.2f}'.format(target_efficiency))\n",
    "    plt.xlabel('dr_min')\n",
    "    plt.ylabel('dr_max')\n",
    "    plt.title('FPR at TPR = {:.2f} over ΔR Ranges'.format(target_efficiency))\n",
    "    plt.grid(True)\n",
    "    plt.show()"
   ]
  },
  {
   "cell_type": "code",
   "execution_count": 49,
   "metadata": {},
   "outputs": [
    {
     "name": "stderr",
     "output_type": "stream",
     "text": [
      "Computing ROC curve:   0%|\u001b[32m          \u001b[0m| 0/1 [00:00<?, ?it/s].21s/it]"
     ]
    }
   ],
   "source": [
    "ROC_FPR_2D_plot(MuonTree_Zmumu, MuonTree_ZeroBias, Zmumu_pt, Zmumu_eta, Zmumu_phi, ZeroBias_pt, ZeroBias_eta, ZeroBias_phi, steps=2)"
   ]
  }
 ],
 "metadata": {
  "kernelspec": {
   "display_name": "thesis",
   "language": "python",
   "name": "python3"
  },
  "language_info": {
   "codemirror_mode": {
    "name": "ipython",
    "version": 3
   },
   "file_extension": ".py",
   "mimetype": "text/x-python",
   "name": "python",
   "nbconvert_exporter": "python",
   "pygments_lexer": "ipython3",
   "version": "3.13.2"
  }
 },
 "nbformat": 4,
 "nbformat_minor": 2
}
