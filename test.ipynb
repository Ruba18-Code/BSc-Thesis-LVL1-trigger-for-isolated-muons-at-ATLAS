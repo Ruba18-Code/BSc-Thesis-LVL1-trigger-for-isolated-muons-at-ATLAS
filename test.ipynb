{
 "cells": [
  {
   "cell_type": "code",
   "execution_count": 1,
   "metadata": {},
   "outputs": [],
   "source": [
    "from my_functions import*"
   ]
  },
  {
   "cell_type": "code",
   "execution_count": 2,
   "metadata": {},
   "outputs": [],
   "source": [
    "file= uproot.open(\"/home/ruben/Escritorio/BachelorThesisRuben/Data/Muon_trees.root\") #opening the Root file with Uproot "
   ]
  },
  {
   "cell_type": "code",
   "execution_count": null,
   "metadata": {},
   "outputs": [
    {
     "name": "stderr",
     "output_type": "stream",
     "text": [
      "100%|██████████| 2000/2000 [00:02<00:00, 877.57it/s]\n"
     ]
    }
   ],
   "source": [
    "MuonTree_ZeroBias=file[\"MuonTree_ZeroBias;1\"]\n",
    "MuonTree_Zmumu=file[\"MuonTree_Zmumu;1\"]\n",
    "\n",
    "#Select range of events\n",
    "nmin1=100\n",
    "nmax1=4000\n",
    "\n",
    "#Select quality 0 Z->mumu\n",
    "Zmumu_pt=quality_selector_with_empty(MuonTree_Zmumu[\"muon_quality\"].array(),MuonTree_Zmumu[\"muon_pt\"].array(),0)[nmin1:nmax1]\n",
    "Zmumu_eta=quality_selector_with_empty(MuonTree_Zmumu[\"muon_quality\"].array(),MuonTree_Zmumu[\"muon_eta\"].array(),0)[nmin1:nmax1]\n",
    "Zmumu_phi=quality_selector_with_empty(MuonTree_Zmumu[\"muon_quality\"].array(),MuonTree_Zmumu[\"muon_phi\"].array(),0)[nmin1:nmax1]\n",
    "#And select the Z peak pairs\n",
    "Zmumu_pt1, Zmumu_eta1, Zmumu_phi1= get_all_Z_peak_pairs(Zmumu_pt,Zmumu_eta,Zmumu_phi)\n",
    "\n",
    "nmin2=100\n",
    "nmax2=100000\n",
    "ZeroBias_eta1=energy_cut_with_empty(MuonTree_ZeroBias[\"muon_pt\"].array(), MuonTree_ZeroBias[\"muon_eta\"].array())[nmin2:nmax2]\n",
    "ZeroBias_phi1=energy_cut_with_empty(MuonTree_ZeroBias[\"muon_pt\"].array(), MuonTree_ZeroBias[\"muon_phi\"].array())[nmin2:nmax2]\n",
    "ZeroBias_pt1=energy_cut_with_empty(MuonTree_ZeroBias[\"muon_pt\"].array(), MuonTree_ZeroBias[\"muon_pt\"].array())[nmin2:nmax2]\n",
    "\n",
    "#Select range of events\n",
    "nmin3=100\n",
    "nmax3=8000\n",
    "\n",
    "#Select quality 0 Z->mumu\n",
    "Zmumu_pt=quality_selector(MuonTree_Zmumu[\"muon_quality\"].array(),MuonTree_Zmumu[\"muon_pt\"].array(),0)[nmin3:nmax3]\n",
    "Zmumu_eta=quality_selector(MuonTree_Zmumu[\"muon_quality\"].array(),MuonTree_Zmumu[\"muon_eta\"].array(),0)[nmin3:nmax3]\n",
    "Zmumu_phi=quality_selector(MuonTree_Zmumu[\"muon_quality\"].array(),MuonTree_Zmumu[\"muon_phi\"].array(),0)[nmin3:nmax3]\n",
    "#And select the Z peak pairs\n",
    "Zmumu_pt2, Zmumu_eta2, Zmumu_phi2= get_all_Z_peak_pairs(Zmumu_pt,Zmumu_eta,Zmumu_phi)\n",
    "\n",
    "nmin4=100\n",
    "nmax4=8000\n",
    "ZeroBias_eta2=energy_cut(MuonTree_ZeroBias[\"muon_pt\"].array(), MuonTree_ZeroBias[\"muon_eta\"].array())[nmin4:nmax4]\n",
    "ZeroBias_phi2=energy_cut(MuonTree_ZeroBias[\"muon_pt\"].array(), MuonTree_ZeroBias[\"muon_phi\"].array())[nmin4:nmax4]\n",
    "ZeroBias_pt2=energy_cut(MuonTree_ZeroBias[\"muon_pt\"].array(), MuonTree_ZeroBias[\"muon_pt\"].array())[nmin4:nmax4]"
   ]
  },
  {
   "cell_type": "code",
   "execution_count": null,
   "metadata": {},
   "outputs": [],
   "source": []
  }
 ],
 "metadata": {
  "kernelspec": {
   "display_name": "thesis",
   "language": "python",
   "name": "python3"
  },
  "language_info": {
   "codemirror_mode": {
    "name": "ipython",
    "version": 3
   },
   "file_extension": ".py",
   "mimetype": "text/x-python",
   "name": "python",
   "nbconvert_exporter": "python",
   "pygments_lexer": "ipython3",
   "version": "3.13.2"
  }
 },
 "nbformat": 4,
 "nbformat_minor": 2
}
