{
 "cells": [
  {
   "cell_type": "code",
   "execution_count": 2,
   "metadata": {},
   "outputs": [],
   "source": [
    "from my_functions import*"
   ]
  },
  {
   "cell_type": "code",
   "execution_count": 3,
   "metadata": {},
   "outputs": [],
   "source": [
    "file= uproot.open(\"/home/ruben/Escritorio/BachelorThesisRuben/Data/Muon_trees.root\") #opening the Root file with Uproot "
   ]
  },
  {
   "cell_type": "code",
   "execution_count": 4,
   "metadata": {},
   "outputs": [
    {
     "name": "stdout",
     "output_type": "stream",
     "text": [
      "energy_cut: Only 5.79% of the events have survived the cut with a lower cut of 14000 and no upper cut\n",
      "energy_cut: Only 5.79% of the events have survived the cut with a lower cut of 14000 and no upper cut\n",
      "energy_cut: Only 5.79% of the events have survived the cut with a lower cut of 14000 and no upper cut\n"
     ]
    },
    {
     "name": "stderr",
     "output_type": "stream",
     "text": [
      "100%|██████████| 3000/3000 [00:01<00:00, 1772.18it/s]\n"
     ]
    }
   ],
   "source": [
    "MuonTree_ZeroBias=file[\"MuonTree_ZeroBias;1\"]\n",
    "MuonTree_Zmumu=file[\"MuonTree_Zmumu;1\"]\n",
    "\n",
    "nmin=0\n",
    "nmax=3000\n",
    "\n",
    "ZeroBias_eta=energy_cut(MuonTree_ZeroBias[\"muon_pt\"].array(), MuonTree_ZeroBias[\"muon_eta\"].array())[nmin:nmax]\n",
    "ZeroBias_phi=energy_cut(MuonTree_ZeroBias[\"muon_pt\"].array(), MuonTree_ZeroBias[\"muon_phi\"].array())[nmin:nmax]\n",
    "ZeroBias_pt=energy_cut(MuonTree_ZeroBias[\"muon_pt\"].array(), MuonTree_ZeroBias[\"muon_pt\"].array())[nmin:nmax]\n",
    "\n",
    "#Select quality 0 Z->mumu\n",
    "Zmumu_pt=MuonTree_Zmumu[\"muon_pt\"].array()[nmin:nmax]\n",
    "Zmumu_eta=MuonTree_Zmumu[\"muon_eta\"].array()[nmin:nmax]\n",
    "Zmumu_phi=MuonTree_Zmumu[\"muon_phi\"].array()[nmin:nmax]\n",
    "#And select the Z peak pairsa\n",
    "Zmumu_pt, Zmumu_eta, Zmumu_phi = get_all_Z_peak_pairs(Zmumu_pt,Zmumu_eta,Zmumu_phi)"
   ]
  },
  {
   "cell_type": "code",
   "execution_count": 40,
   "metadata": {},
   "outputs": [],
   "source": [
    "\n",
    "tree=MuonTree_ZeroBias\n",
    "jTower=tree.arrays([\"jTower_eta\",\"jTower_phi\"],entry_start=0,entry_stop=1)"
   ]
  },
  {
   "cell_type": "code",
   "execution_count": 44,
   "metadata": {},
   "outputs": [],
   "source": [
    "jTower_eta=ak.flatten(jTower[\"jTower_eta\"])\n",
    "jTower_phi=ak.flatten(jTower[\"jTower_phi\"])"
   ]
  },
  {
   "cell_type": "code",
   "execution_count": 46,
   "metadata": {},
   "outputs": [
    {
     "data": {
      "text/plain": [
       "(<Array [1.95, 1.85, 1.95, 1.85, ..., 0.25, 0.35, 0.35] type='7680 * float32'>,\n",
       " <Array [-1.62, -1.62, -1.82, ..., 3.09, 2.99, 3.09] type='7680 * float32'>)"
      ]
     },
     "execution_count": 46,
     "metadata": {},
     "output_type": "execute_result"
    }
   ],
   "source": [
    "jTower_eta, jTower_phi"
   ]
  },
  {
   "cell_type": "code",
   "execution_count": null,
   "metadata": {},
   "outputs": [],
   "source": []
  }
 ],
 "metadata": {
  "kernelspec": {
   "display_name": "thesis",
   "language": "python",
   "name": "python3"
  },
  "language_info": {
   "codemirror_mode": {
    "name": "ipython",
    "version": 3
   },
   "file_extension": ".py",
   "mimetype": "text/x-python",
   "name": "python",
   "nbconvert_exporter": "python",
   "pygments_lexer": "ipython3",
   "version": "3.13.2"
  }
 },
 "nbformat": 4,
 "nbformat_minor": 2
}
