{
 "cells": [
  {
   "cell_type": "code",
   "execution_count": 5,
   "id": "37687cc7",
   "metadata": {},
   "outputs": [],
   "source": [
    "import uproot\n",
    "import numpy as np #math and science package\n",
    "import scipy as sp #math and science package\n",
    "import awkward as ak #root files are usuallt awkward arrays \n",
    "import matplotlib.pyplot as plt #plot stuff\n",
    "import itertools\n",
    "from my_functions import *\n",
    "\n",
    "#Open the file\n",
    "file= uproot.open(\"/home/ruben/Escritorio/BachelorThesisRuben/Data/Muon_trees.root\")\n",
    "\n",
    "#Get both keys\n",
    "MuonTree_Zmumu=file[\"MuonTree_Zmumu;1\"]\n",
    "MuonTree_ZeroBias=file[\"MuonTree_ZeroBias;1\"] \n",
    "\n",
    "#Get eta, phi and pt\n",
    "eta=MuonTree_Zmumu[\"muon_eta\"].array()\n",
    "phi=MuonTree_Zmumu[\"muon_phi\"].array()\n",
    "pt=MuonTree_Zmumu[\"muon_pt\"].array()\n",
    "\n",
    "#Now let's select the best pairs \n",
    "pairs=[]\n",
    "for i in range(100):\n",
    "    m=pair_selector(pt, eta, phi, i)\n",
    "    pairs.append(m[1])"
   ]
  },
  {
   "cell_type": "code",
   "execution_count": 7,
   "id": "0f078953",
   "metadata": {},
   "outputs": [
    {
     "data": {
      "text/html": [
       "<pre>[(3, 3),\n",
       " (3, 3),\n",
       " (3, 3),\n",
       " (3, 3),\n",
       " (3, 3),\n",
       " (3, 3),\n",
       " (3, 3),\n",
       " (3, 3),\n",
       " (3, 3),\n",
       " (3, 3),\n",
       " ...,\n",
       " (3, 3),\n",
       " (3, 3),\n",
       " (3, 3),\n",
       " (3, 3),\n",
       " (3, 3),\n",
       " (3, 3),\n",
       " (3, 3),\n",
       " (3, 3),\n",
       " (3, 3)]\n",
       "------------------------------------\n",
       "backend: cpu\n",
       "nbytes: 1.6 kB\n",
       "type: 100 * (\n",
       "    int64,\n",
       "    int64\n",
       ")</pre>"
      ],
      "text/plain": [
       "<Array [(3, 3), (3, 3), (...), ..., (3, 3), (3, 3)] type='100 * (int64, int64)'>"
      ]
     },
     "execution_count": 7,
     "metadata": {},
     "output_type": "execute_result"
    }
   ],
   "source": [
    "ak_element_lenght_counter(pairs)"
   ]
  },
  {
   "cell_type": "code",
   "execution_count": null,
   "id": "35cc12cc",
   "metadata": {},
   "outputs": [],
   "source": []
  }
 ],
 "metadata": {
  "kernelspec": {
   "display_name": "thesis",
   "language": "python",
   "name": "python3"
  },
  "language_info": {
   "codemirror_mode": {
    "name": "ipython",
    "version": 3
   },
   "file_extension": ".py",
   "mimetype": "text/x-python",
   "name": "python",
   "nbconvert_exporter": "python",
   "pygments_lexer": "ipython3",
   "version": "3.13.2"
  }
 },
 "nbformat": 4,
 "nbformat_minor": 5
}
