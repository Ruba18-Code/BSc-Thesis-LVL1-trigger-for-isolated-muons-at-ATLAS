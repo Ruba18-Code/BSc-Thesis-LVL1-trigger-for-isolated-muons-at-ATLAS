{
 "cells": [
  {
   "cell_type": "code",
   "execution_count": 1,
   "id": "10af2a07",
   "metadata": {},
   "outputs": [],
   "source": [
    "from my_functions import *"
   ]
  },
  {
   "cell_type": "code",
   "execution_count": 2,
   "id": "0da05ca3",
   "metadata": {},
   "outputs": [],
   "source": [
    "file= uproot.open(\"/home/ruben/Escritorio/BachelorThesisRuben/Data/Muon_trees.root\") #opening the Root file with Uproot \n",
    "\n",
    "MuonTree_ZeroBias=file[\"MuonTree_ZeroBias;1\"]\n",
    "\n",
    "#Open LVL1 data\n",
    "eta=MuonTree_ZeroBias[\"LVL1Muon_eta\"].array()\n",
    "phi=MuonTree_ZeroBias[\"LVL1Muon_phi\"].array()\n",
    "\n",
    "eta_phi_pair= eta, phi"
   ]
  },
  {
   "cell_type": "code",
   "execution_count": 11,
   "id": "f70a34ce",
   "metadata": {},
   "outputs": [],
   "source": [
    "eta=MuonTree_ZeroBias[\"LVL1Muon_eta\"].array(entry_start=0, entry_stop=100)\n",
    "\n",
    "n=0\n",
    "all_detas=[]\n",
    "for events in eta:\n",
    "    pixels=(MuonTree_ZeroBias.arrays([\"jTower_eta\"], entry_start=n, entry_stop=n+1))[\"jTower_eta\"]\n",
    "    detas_event=[]\n",
    "    for val in events:\n",
    "        detas=[]\n",
    "        for pixel in pixels:\n",
    "            detas.append(delta_eta(val,pixel))   \n",
    "        detas_event.append(detas) \n",
    "    all_detas.append(detas_event)    \n",
    "    n=n+1\n"
   ]
  },
  {
   "cell_type": "code",
   "execution_count": 8,
   "id": "91196338",
   "metadata": {},
   "outputs": [],
   "source": [
    "flat = ak.flatten(all_detas, axis=None)\n",
    "max_val = ak.min(flat)"
   ]
  },
  {
   "cell_type": "code",
   "execution_count": 13,
   "id": "1a17320f",
   "metadata": {},
   "outputs": [
    {
     "data": {
      "text/plain": [
       "[[],\n",
       " [],\n",
       " [],\n",
       " [],\n",
       " [],\n",
       " [],\n",
       " [],\n",
       " [],\n",
       " [],\n",
       " [],\n",
       " [],\n",
       " [],\n",
       " [],\n",
       " [],\n",
       " [],\n",
       " [],\n",
       " [],\n",
       " [],\n",
       " [],\n",
       " [],\n",
       " [],\n",
       " [],\n",
       " [],\n",
       " [],\n",
       " [],\n",
       " [],\n",
       " [],\n",
       " [],\n",
       " [],\n",
       " [],\n",
       " [],\n",
       " [],\n",
       " [],\n",
       " [],\n",
       " [],\n",
       " [],\n",
       " [],\n",
       " [],\n",
       " [],\n",
       " [],\n",
       " [],\n",
       " [],\n",
       " [],\n",
       " [],\n",
       " [],\n",
       " [],\n",
       " [],\n",
       " [],\n",
       " [],\n",
       " [],\n",
       " [],\n",
       " [],\n",
       " [],\n",
       " [],\n",
       " [],\n",
       " [],\n",
       " [],\n",
       " [],\n",
       " [],\n",
       " [],\n",
       " [],\n",
       " [],\n",
       " [],\n",
       " [],\n",
       " [],\n",
       " [],\n",
       " [],\n",
       " [],\n",
       " [],\n",
       " [],\n",
       " [],\n",
       " [],\n",
       " [],\n",
       " [],\n",
       " [],\n",
       " [],\n",
       " [],\n",
       " [],\n",
       " [],\n",
       " [],\n",
       " [],\n",
       " [],\n",
       " [],\n",
       " [],\n",
       " [],\n",
       " [],\n",
       " [],\n",
       " [],\n",
       " [],\n",
       " [],\n",
       " [],\n",
       " [],\n",
       " [],\n",
       " [],\n",
       " [],\n",
       " [],\n",
       " [],\n",
       " [],\n",
       " [],\n",
       " []]"
      ]
     },
     "execution_count": 13,
     "metadata": {},
     "output_type": "execute_result"
    }
   ],
   "source": [
    "all_detas"
   ]
  },
  {
   "cell_type": "code",
   "execution_count": null,
   "id": "b05fee93",
   "metadata": {},
   "outputs": [],
   "source": []
  }
 ],
 "metadata": {
  "kernelspec": {
   "display_name": "thesis",
   "language": "python",
   "name": "python3"
  },
  "language_info": {
   "codemirror_mode": {
    "name": "ipython",
    "version": 3
   },
   "file_extension": ".py",
   "mimetype": "text/x-python",
   "name": "python",
   "nbconvert_exporter": "python",
   "pygments_lexer": "ipython3",
   "version": "3.13.2"
  }
 },
 "nbformat": 4,
 "nbformat_minor": 5
}
