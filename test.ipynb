{
 "cells": [
  {
   "cell_type": "code",
   "execution_count": 406,
   "id": "10af2a07",
   "metadata": {},
   "outputs": [],
   "source": [
    "from my_functions import *"
   ]
  },
  {
   "cell_type": "code",
   "execution_count": 407,
   "id": "0da05ca3",
   "metadata": {},
   "outputs": [],
   "source": [
    "file= uproot.open(\"/home/ruben/Escritorio/BachelorThesisRuben/Data/Muon_trees.root\") #opening the Root file with Uproot \n",
    "\n",
    "MuonTree_ZeroBias=file[\"MuonTree_ZeroBias;1\"]\n",
    "\n",
    "#Open LVL1 data\n",
    "eta=MuonTree_ZeroBias[\"LVL1Muon_eta\"].array() \n",
    "phi=MuonTree_ZeroBias[\"LVL1Muon_phi\"].array()"
   ]
  },
  {
   "cell_type": "code",
   "execution_count": 408,
   "id": "f445a3b2",
   "metadata": {},
   "outputs": [],
   "source": [
    "def jTower_selector(tree, name, n):\n",
    "\n",
    "    #Since jTower is heavy, this function allows to select only one element to not overload our RAM memory\n",
    "    #tree is the name of the tree: Muon_ZeroBias or Muon_Zmumu\n",
    "    #name is the name of the data: \"jTower_eta\", \"jTower_et_MeV\"...\n",
    "    #n is the position of the element we want to obtain\n",
    "\n",
    "   return tree.arrays([name], entry_start=n, entry_stop=n + 1)[name][0]"
   ]
  },
  {
   "cell_type": "code",
   "execution_count": 409,
   "id": "c8edc7d7",
   "metadata": {},
   "outputs": [],
   "source": [
    "def jTower_muon_pair_maker(tree, name, n , val):\n",
    "\n",
    "    #This function creates pairs with some data (designed for an eta or phi value) and a jTower array\n",
    "\n",
    "    #Get the jTower array\n",
    "    jTower_array=jTower_selector(tree,name,n)\n",
    "\n",
    "    res=[]\n",
    "    #Create pairs\n",
    "    for stuff in jTower_array:\n",
    "        tup= [val, stuff]\n",
    "        res.append(tup)\n",
    "\n",
    "    return(res)"
   ]
  },
  {
   "cell_type": "code",
   "execution_count": 410,
   "id": "c25e38be",
   "metadata": {},
   "outputs": [],
   "source": [
    "def one_element_jTower_eta(element,tree, name, n):\n",
    "\n",
    "    #Computes delta eta for one muon with respect to an entire jTower array with index n \n",
    "    \n",
    "    return(get_all_delta_eta(jTower_muon_pair_maker(tree,name,n,element)))"
   ]
  },
  {
   "cell_type": "code",
   "execution_count": 411,
   "id": "d6dc1130",
   "metadata": {},
   "outputs": [],
   "source": [
    "def one_element_jTower_phi(element,tree, name, n):\n",
    "\n",
    "    #Computes delta phi for one muon with respect to an entire jTower array with index n \n",
    "\n",
    "    return(get_all_delta_phi(jTower_muon_pair_maker(tree,name,n,element)))"
   ]
  },
  {
   "cell_type": "code",
   "execution_count": 412,
   "id": "b07cabd1",
   "metadata": {},
   "outputs": [],
   "source": [
    "def one_element_jTower_dr(element_eta,element_phi,tree_eta,tree_phi, name_eta,name_phi, n):\n",
    "\n",
    "    #Computes delta r for one muon with respect to an entire jTower array with index n \n",
    "    #Warning: [element_eta.fields[0]] is necessary to turn ak.Record into scalars\n",
    "    \n",
    "    return(get_all_delta_r(jTower_muon_pair_maker(tree_eta,name_eta,n,element_eta),\n",
    "                           jTower_muon_pair_maker(tree_phi,name_phi,n,element_phi)))"
   ]
  },
  {
   "cell_type": "code",
   "execution_count": 413,
   "id": "72d00efe",
   "metadata": {},
   "outputs": [],
   "source": [
    "def one_event_jTower_dr(event_eta,event_phi,tree_eta,tree_phi, name_eta,name_phi, n):\n",
    "\n",
    "    #Loop over an event to compute the dr between each of the muons of the event and an entire jTower array with index n\n",
    "    \n",
    "    res=[]\n",
    "\n",
    "    for i in range(len(event_eta)):\n",
    "        res.append(one_element_jTower_dr(event_eta[i],event_phi[i],tree_eta,tree_phi, name_eta,name_phi, n))\n",
    "    return(res)"
   ]
  },
  {
   "cell_type": "code",
   "execution_count": 414,
   "id": "2ec97f6c",
   "metadata": {},
   "outputs": [],
   "source": [
    "def all_events_jTower_dr(eta_array,phi_array,tree_eta,tree_phi, name_eta,name_phi):\n",
    "\n",
    "    #Warning: this function may take VERY long to run depending on the amount of data\n",
    "\n",
    "    #Loop over all events and compute the dr between all muons in the events and their respective jTower array\n",
    "\n",
    "    #Ensure that all elements are ak.Array and not ak.Record (removes the 'labels' from the data and leaves just the numbers)\n",
    "    #This is very important\n",
    "    \n",
    "    eta_array=eta_array[eta_array.fields[0]]\n",
    "    phi_array=phi_array[phi_array.fields[0]]\n",
    "\n",
    "    #It's important that the result is returned as an ak.Array (otherwise it would be a list which is not what we want)\n",
    "\n",
    "    #The following syntax is a bit strange here but it's the most efficient. If the loop was outside, we'd need an extra vector,\n",
    "    #like in the example below (commented):\n",
    "\n",
    "        #res=[] <-----UNNECESSARY ASSIGNMENT\n",
    "        # for i in range(len(eta_array)):\n",
    "        #     res.append(one_event_jTower_dr(eta_array[i],phi_array[i],tree_eta,tree_phi, name_eta,name_phi, i))\n",
    "        # return(ak.Array(res))\n",
    "\n",
    "    #Here everything is done at once\n",
    "    return ak.Array(\n",
    "        [one_event_jTower_dr(eta_array[i], phi_array[i], tree_eta, tree_phi, name_eta, name_phi, i)\n",
    "        for i in range(len(eta_array))])"
   ]
  },
  {
   "cell_type": "code",
   "execution_count": 415,
   "id": "ec1ec2f8",
   "metadata": {},
   "outputs": [],
   "source": [
    "eta=MuonTree_ZeroBias.arrays([\"LVL1Muon_eta\"], entry_start=0, entry_stop=3000)\n",
    "phi=MuonTree_ZeroBias.arrays([\"LVL1Muon_phi\"], entry_start=0, entry_stop=3000)"
   ]
  },
  {
   "cell_type": "code",
   "execution_count": 416,
   "id": "e0d0b42c",
   "metadata": {},
   "outputs": [
    {
     "data": {
      "text/html": [
       "<pre>[[],\n",
       " [],\n",
       " [],\n",
       " [],\n",
       " [],\n",
       " [],\n",
       " [],\n",
       " [],\n",
       " [],\n",
       " [],\n",
       " ...,\n",
       " [],\n",
       " [],\n",
       " [],\n",
       " [],\n",
       " [],\n",
       " [],\n",
       " [],\n",
       " [],\n",
       " []]\n",
       "--------------------------------\n",
       "backend: cpu\n",
       "nbytes: 7.8 MB\n",
       "type: 3000 * var * var * float64</pre>"
      ],
      "text/plain": [
       "<Array [[], [], [], [], ..., [], [], [], []] type='3000 * var * var * float64'>"
      ]
     },
     "execution_count": 416,
     "metadata": {},
     "output_type": "execute_result"
    }
   ],
   "source": [
    "a=all_events_jTower_dr(eta,phi,MuonTree_ZeroBias,MuonTree_ZeroBias,\"jTower_eta\",\"jTower_phi\")\n",
    "\n",
    "a"
   ]
  }
 ],
 "metadata": {
  "kernelspec": {
   "display_name": "thesis",
   "language": "python",
   "name": "python3"
  },
  "language_info": {
   "codemirror_mode": {
    "name": "ipython",
    "version": 3
   },
   "file_extension": ".py",
   "mimetype": "text/x-python",
   "name": "python",
   "nbconvert_exporter": "python",
   "pygments_lexer": "ipython3",
   "version": "3.13.2"
  }
 },
 "nbformat": 4,
 "nbformat_minor": 5
}
