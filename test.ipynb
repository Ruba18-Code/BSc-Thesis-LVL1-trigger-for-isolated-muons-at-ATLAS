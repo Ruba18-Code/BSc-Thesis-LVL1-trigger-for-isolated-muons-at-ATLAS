{
 "cells": [
  {
   "cell_type": "code",
   "execution_count": 1,
   "metadata": {},
   "outputs": [],
   "source": [
    "from my_functions import*"
   ]
  },
  {
   "cell_type": "code",
   "execution_count": 2,
   "metadata": {},
   "outputs": [],
   "source": [
    "file= uproot.open(\"/home/ruben/Escritorio/BachelorThesisRuben/Data/Muon_trees.root\") #opening the Root file with Uproot \n",
    "MuonTree_ZeroBias=file[\"MuonTree_ZeroBias;1\"]\n",
    "MuonTree_Zmumu=file[\"MuonTree_Zmumu;1\"]"
   ]
  },
  {
   "cell_type": "code",
   "execution_count": null,
   "metadata": {},
   "outputs": [
    {
     "name": "stderr",
     "output_type": "stream",
     "text": [
      "Selecting events:   0%|          | 0/200000 [00:00<?, ?it/s]"
     ]
    },
    {
     "name": "stderr",
     "output_type": "stream",
     "text": [
      "Selecting events: 100%|██████████| 200000/200000 [00:38<00:00, 5132.64it/s]"
     ]
    },
    {
     "name": "stdout",
     "output_type": "stream",
     "text": [
      "Only 5.79 % of the events have survived the cut\n"
     ]
    },
    {
     "name": "stderr",
     "output_type": "stream",
     "text": [
      "\n"
     ]
    }
   ],
   "source": [
    "res=energy_cut(MuonTree_ZeroBias[\"LVL1Muon_et\"].array(), 14)"
   ]
  },
  {
   "cell_type": "code",
   "execution_count": 68,
   "metadata": {},
   "outputs": [
    {
     "data": {
      "text/html": [
       "<pre>[[2.06e+05],\n",
       " [1.43e+04],\n",
       " [1.44e+04],\n",
       " [2.05e+04],\n",
       " [1.71e+04],\n",
       " [4.51e+04],\n",
       " [3.54e+04],\n",
       " [8.86e+04],\n",
       " [2.41e+04],\n",
       " [1.97e+04],\n",
       " ...,\n",
       " [1.53e+04],\n",
       " [1.52e+04],\n",
       " [8.72e+04, 2.77e+04],\n",
       " [1.3e+05],\n",
       " [3.59e+04],\n",
       " [3.13e+04],\n",
       " [8.03e+04],\n",
       " [7.81e+04],\n",
       " [1.78e+04]]\n",
       "---------------------------\n",
       "backend: cpu\n",
       "nbytes: 191.3 kB\n",
       "type: 11575 * var * float64</pre>"
      ],
      "text/plain": [
       "<Array [[2.06e+05], [1.43e+04], ..., [1.78e+04]] type='11575 * var * float64'>"
      ]
     },
     "execution_count": 68,
     "metadata": {},
     "output_type": "execute_result"
    }
   ],
   "source": [
    "res"
   ]
  },
  {
   "cell_type": "code",
   "execution_count": 50,
   "metadata": {},
   "outputs": [],
   "source": [
    "arr=MuonTree_ZeroBias[\"LVL1Muon_et\"].array()\n",
    "mask=arr > 0"
   ]
  },
  {
   "cell_type": "code",
   "execution_count": 51,
   "metadata": {},
   "outputs": [
    {
     "data": {
      "text/html": [
       "<pre>[[],\n",
       " [],\n",
       " [],\n",
       " [],\n",
       " [],\n",
       " [],\n",
       " [],\n",
       " [],\n",
       " [],\n",
       " [],\n",
       " ...,\n",
       " [],\n",
       " [],\n",
       " [],\n",
       " [],\n",
       " [],\n",
       " [],\n",
       " [],\n",
       " [],\n",
       " []]\n",
       "----------------------------\n",
       "backend: cpu\n",
       "nbytes: 1.7 MB\n",
       "type: 200000 * var * float32</pre>"
      ],
      "text/plain": [
       "<Array [[], [], [], [], [], ..., [], [], [], []] type='200000 * var * float32'>"
      ]
     },
     "execution_count": 51,
     "metadata": {},
     "output_type": "execute_result"
    }
   ],
   "source": [
    "mask\n",
    "\n",
    "arr[mask]"
   ]
  },
  {
   "cell_type": "code",
   "execution_count": null,
   "metadata": {},
   "outputs": [],
   "source": []
  }
 ],
 "metadata": {
  "kernelspec": {
   "display_name": "thesis",
   "language": "python",
   "name": "python3"
  },
  "language_info": {
   "codemirror_mode": {
    "name": "ipython",
    "version": 3
   },
   "file_extension": ".py",
   "mimetype": "text/x-python",
   "name": "python",
   "nbconvert_exporter": "python",
   "pygments_lexer": "ipython3",
   "version": "3.13.2"
  }
 },
 "nbformat": 4,
 "nbformat_minor": 2
}
