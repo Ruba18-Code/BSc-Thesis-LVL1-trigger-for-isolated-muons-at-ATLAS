{
 "cells": [
  {
   "cell_type": "code",
   "execution_count": 2,
   "id": "10af2a07",
   "metadata": {},
   "outputs": [],
   "source": [
    "from my_functions import *"
   ]
  },
  {
   "cell_type": "code",
   "execution_count": 3,
   "id": "0da05ca3",
   "metadata": {},
   "outputs": [],
   "source": [
    "file= uproot.open(\"/home/ruben/Escritorio/BachelorThesisRuben/Data/Muon_trees.root\") #opening the Root file with Uproot \n",
    "\n",
    "MuonTree_ZeroBias=file[\"MuonTree_ZeroBias;1\"]"
   ]
  },
  {
   "cell_type": "code",
   "execution_count": 4,
   "id": "ec1ec2f8",
   "metadata": {},
   "outputs": [],
   "source": [
    "eta=MuonTree_ZeroBias.arrays([\"LVL1Muon_eta\"], entry_start=2000, entry_stop=3000)\n",
    "phi=MuonTree_ZeroBias.arrays([\"LVL1Muon_phi\"], entry_start=2000, entry_stop=3000)"
   ]
  },
  {
   "cell_type": "code",
   "execution_count": 5,
   "id": "e0d0b42c",
   "metadata": {},
   "outputs": [
    {
     "data": {
      "text/html": [
       "<pre>[[],\n",
       " [],\n",
       " [],\n",
       " [],\n",
       " [],\n",
       " [],\n",
       " [],\n",
       " [],\n",
       " [],\n",
       " [],\n",
       " ...,\n",
       " [],\n",
       " [],\n",
       " [],\n",
       " [],\n",
       " [],\n",
       " [],\n",
       " [],\n",
       " [],\n",
       " []]\n",
       "--------------------------------\n",
       "backend: cpu\n",
       "nbytes: 3.3 MB\n",
       "type: 1000 * var * var * float64</pre>"
      ],
      "text/plain": [
       "<Array [[], [], [], [], ..., [], [], [], []] type='1000 * var * var * float64'>"
      ]
     },
     "execution_count": 5,
     "metadata": {},
     "output_type": "execute_result"
    }
   ],
   "source": [
    "a=all_events_jTower_dr(eta,phi,MuonTree_ZeroBias,MuonTree_ZeroBias,\"jTower_eta\",\"jTower_phi\")\n",
    "\n",
    "a"
   ]
  },
  {
   "cell_type": "code",
   "execution_count": 6,
   "id": "53f57315",
   "metadata": {},
   "outputs": [
    {
     "ename": "KeyboardInterrupt",
     "evalue": "",
     "output_type": "error",
     "traceback": [
      "\u001b[31m---------------------------------------------------------------------------\u001b[39m",
      "\u001b[31mKeyboardInterrupt\u001b[39m                         Traceback (most recent call last)",
      "\u001b[36mCell\u001b[39m\u001b[36m \u001b[39m\u001b[32mIn[6]\u001b[39m\u001b[32m, line 1\u001b[39m\n\u001b[32m----> \u001b[39m\u001b[32m1\u001b[39m \u001b[43misAll_below_threshold\u001b[49m\u001b[43m(\u001b[49m\u001b[43ma\u001b[49m\u001b[43m,\u001b[49m\u001b[32;43m0.4\u001b[39;49m\u001b[43m)\u001b[49m\n",
      "\u001b[36mFile \u001b[39m\u001b[32m~/Escritorio/BachelorThesisRuben/CodeThesis/my_functions.py:611\u001b[39m, in \u001b[36misAll_below_threshold\u001b[39m\u001b[34m(data, threshold)\u001b[39m\n\u001b[32m    608\u001b[39m     \u001b[38;5;28;01mreturn\u001b[39;00m ak.Array([\u001b[38;5;28;01mFalse\u001b[39;00m])\n\u001b[32m    610\u001b[39m \u001b[38;5;66;03m#For all events in the data, execute the isEvent function\u001b[39;00m\n\u001b[32m--> \u001b[39m\u001b[32m611\u001b[39m \u001b[38;5;28;01mreturn\u001b[39;00m ak.Array([\u001b[43misEvent_below_threshold\u001b[49m\u001b[43m(\u001b[49m\u001b[43mevent\u001b[49m\u001b[43m,\u001b[49m\u001b[43m \u001b[49m\u001b[43mthreshold\u001b[49m\u001b[43m)\u001b[49m \u001b[38;5;28;01mfor\u001b[39;00m event \u001b[38;5;129;01min\u001b[39;00m data])\n",
      "\u001b[36mFile \u001b[39m\u001b[32m~/Escritorio/BachelorThesisRuben/CodeThesis/my_functions.py:595\u001b[39m, in \u001b[36misEvent_below_threshold\u001b[39m\u001b[34m(event, threshold)\u001b[39m\n\u001b[32m    592\u001b[39m     \u001b[38;5;28;01mreturn\u001b[39;00m ak.Array([\u001b[38;5;28;01mFalse\u001b[39;00m])\n\u001b[32m    594\u001b[39m \u001b[38;5;66;03m#For all muons in an event, execute the isMuon function\u001b[39;00m\n\u001b[32m--> \u001b[39m\u001b[32m595\u001b[39m \u001b[38;5;28;01mreturn\u001b[39;00m ak.Array([\u001b[43misMuon_below_threshold\u001b[49m\u001b[43m(\u001b[49m\u001b[43mmuon\u001b[49m\u001b[43m,\u001b[49m\u001b[43m \u001b[49m\u001b[43mthreshold\u001b[49m\u001b[43m)\u001b[49m \u001b[38;5;28;01mfor\u001b[39;00m muon \u001b[38;5;129;01min\u001b[39;00m event])\n",
      "\u001b[36mFile \u001b[39m\u001b[32m~/Escritorio/BachelorThesisRuben/CodeThesis/my_functions.py:582\u001b[39m, in \u001b[36misMuon_below_threshold\u001b[39m\u001b[34m(muon, threshold)\u001b[39m\n\u001b[32m    579\u001b[39m     \u001b[38;5;28;01mreturn\u001b[39;00m ak.Array([\u001b[38;5;28;01mFalse\u001b[39;00m])\n\u001b[32m    581\u001b[39m \u001b[38;5;66;03m#For all elements in the muon, execute the isElement function\u001b[39;00m\n\u001b[32m--> \u001b[39m\u001b[32m582\u001b[39m \u001b[38;5;28;01mreturn\u001b[39;00m ak.Array([\u001b[43misElement_below_threshold\u001b[49m\u001b[43m(\u001b[49m\u001b[43mel\u001b[49m\u001b[43m,\u001b[49m\u001b[43m \u001b[49m\u001b[43mthreshold\u001b[49m\u001b[43m)\u001b[49m \u001b[38;5;28;01mfor\u001b[39;00m el \u001b[38;5;129;01min\u001b[39;00m muon])\n",
      "\u001b[36mFile \u001b[39m\u001b[32m~/Escritorio/BachelorThesisRuben/CodeThesis/my_functions.py:569\u001b[39m, in \u001b[36misElement_below_threshold\u001b[39m\u001b[34m(element, threshold)\u001b[39m\n\u001b[32m    566\u001b[39m     element = ak.Array([element])\n\u001b[32m    568\u001b[39m \u001b[38;5;66;03m#Return true only if it's below threshold, False otherwise\u001b[39;00m\n\u001b[32m--> \u001b[39m\u001b[32m569\u001b[39m \u001b[38;5;28;01mreturn\u001b[39;00m \u001b[43mak\u001b[49m\u001b[43m.\u001b[49m\u001b[43many\u001b[49m\u001b[43m(\u001b[49m\u001b[43melement\u001b[49m\u001b[43m \u001b[49m\u001b[43m<\u001b[49m\u001b[43m=\u001b[49m\u001b[43m \u001b[49m\u001b[43mthreshold\u001b[49m\u001b[43m)\u001b[49m\n",
      "\u001b[36mFile \u001b[39m\u001b[32m~/anaconda3/envs/thesis/lib/python3.13/site-packages/awkward/_dispatch.py:67\u001b[39m, in \u001b[36mnamed_high_level_function.<locals>.dispatch\u001b[39m\u001b[34m(*args, **kwargs)\u001b[39m\n\u001b[32m     65\u001b[39m \u001b[38;5;66;03m# Failed to find a custom overload, so resume the original function\u001b[39;00m\n\u001b[32m     66\u001b[39m \u001b[38;5;28;01mtry\u001b[39;00m:\n\u001b[32m---> \u001b[39m\u001b[32m67\u001b[39m     \u001b[38;5;28;43mnext\u001b[39;49m\u001b[43m(\u001b[49m\u001b[43mgen_or_result\u001b[49m\u001b[43m)\u001b[49m\n\u001b[32m     68\u001b[39m \u001b[38;5;28;01mexcept\u001b[39;00m \u001b[38;5;167;01mStopIteration\u001b[39;00m \u001b[38;5;28;01mas\u001b[39;00m err:\n\u001b[32m     69\u001b[39m     \u001b[38;5;28;01mreturn\u001b[39;00m err.value\n",
      "\u001b[36mFile \u001b[39m\u001b[32m~/anaconda3/envs/thesis/lib/python3.13/site-packages/awkward/operations/ak_any.py:72\u001b[39m, in \u001b[36many\u001b[39m\u001b[34m(array, axis, keepdims, mask_identity, highlevel, behavior, attrs)\u001b[39m\n\u001b[32m     69\u001b[39m \u001b[38;5;28;01myield\u001b[39;00m (array,)\n\u001b[32m     71\u001b[39m \u001b[38;5;66;03m# Implementation\u001b[39;00m\n\u001b[32m---> \u001b[39m\u001b[32m72\u001b[39m \u001b[38;5;28;01mreturn\u001b[39;00m \u001b[43m_impl\u001b[49m\u001b[43m(\u001b[49m\u001b[43marray\u001b[49m\u001b[43m,\u001b[49m\u001b[43m \u001b[49m\u001b[43maxis\u001b[49m\u001b[43m,\u001b[49m\u001b[43m \u001b[49m\u001b[43mkeepdims\u001b[49m\u001b[43m,\u001b[49m\u001b[43m \u001b[49m\u001b[43mmask_identity\u001b[49m\u001b[43m,\u001b[49m\u001b[43m \u001b[49m\u001b[43mhighlevel\u001b[49m\u001b[43m,\u001b[49m\u001b[43m \u001b[49m\u001b[43mbehavior\u001b[49m\u001b[43m,\u001b[49m\u001b[43m \u001b[49m\u001b[43mattrs\u001b[49m\u001b[43m)\u001b[49m\n",
      "\u001b[36mFile \u001b[39m\u001b[32m~/anaconda3/envs/thesis/lib/python3.13/site-packages/awkward/operations/ak_any.py:98\u001b[39m, in \u001b[36m_impl\u001b[39m\u001b[34m(array, axis, keepdims, mask_identity, highlevel, behavior, attrs)\u001b[39m\n\u001b[32m     94\u001b[39m axis = regularize_axis(axis, none_allowed=\u001b[38;5;28;01mTrue\u001b[39;00m)\n\u001b[32m     96\u001b[39m reducer = ak._reducers.Any()\n\u001b[32m---> \u001b[39m\u001b[32m98\u001b[39m out = \u001b[43mak\u001b[49m\u001b[43m.\u001b[49m\u001b[43m_do\u001b[49m\u001b[43m.\u001b[49m\u001b[43mreduce\u001b[49m\u001b[43m(\u001b[49m\n\u001b[32m     99\u001b[39m \u001b[43m    \u001b[49m\u001b[43mlayout\u001b[49m\u001b[43m,\u001b[49m\n\u001b[32m    100\u001b[39m \u001b[43m    \u001b[49m\u001b[43mreducer\u001b[49m\u001b[43m,\u001b[49m\n\u001b[32m    101\u001b[39m \u001b[43m    \u001b[49m\u001b[43maxis\u001b[49m\u001b[43m=\u001b[49m\u001b[43maxis\u001b[49m\u001b[43m,\u001b[49m\n\u001b[32m    102\u001b[39m \u001b[43m    \u001b[49m\u001b[43mmask\u001b[49m\u001b[43m=\u001b[49m\u001b[43mmask_identity\u001b[49m\u001b[43m,\u001b[49m\n\u001b[32m    103\u001b[39m \u001b[43m    \u001b[49m\u001b[43mkeepdims\u001b[49m\u001b[43m=\u001b[49m\u001b[43mkeepdims\u001b[49m\u001b[43m,\u001b[49m\n\u001b[32m    104\u001b[39m \u001b[43m    \u001b[49m\u001b[43mbehavior\u001b[49m\u001b[43m=\u001b[49m\u001b[43mctx\u001b[49m\u001b[43m.\u001b[49m\u001b[43mbehavior\u001b[49m\u001b[43m,\u001b[49m\n\u001b[32m    105\u001b[39m \u001b[43m\u001b[49m\u001b[43m)\u001b[49m\n\u001b[32m    107\u001b[39m wrapped_out = ctx.wrap(\n\u001b[32m    108\u001b[39m     out,\n\u001b[32m    109\u001b[39m     highlevel=highlevel,\n\u001b[32m    110\u001b[39m     allow_other=\u001b[38;5;28;01mTrue\u001b[39;00m,\n\u001b[32m    111\u001b[39m )\n\u001b[32m    113\u001b[39m \u001b[38;5;66;03m# propagate named axis to output\u001b[39;00m\n",
      "\u001b[36mFile \u001b[39m\u001b[32m~/anaconda3/envs/thesis/lib/python3.13/site-packages/awkward/_do.py:250\u001b[39m, in \u001b[36mreduce\u001b[39m\u001b[34m(layout, reducer, axis, mask, keepdims, behavior)\u001b[39m\n\u001b[32m    247\u001b[39m \u001b[38;5;28;01melse\u001b[39;00m:\n\u001b[32m    248\u001b[39m     (layout,) = parts\n\u001b[32m--> \u001b[39m\u001b[32m250\u001b[39m starts = \u001b[43mak\u001b[49m\u001b[43m.\u001b[49m\u001b[43mindex\u001b[49m\u001b[43m.\u001b[49m\u001b[43mIndex64\u001b[49m\u001b[43m.\u001b[49m\u001b[43mzeros\u001b[49m\u001b[43m(\u001b[49m\u001b[32;43m1\u001b[39;49m\u001b[43m,\u001b[49m\u001b[43m \u001b[49m\u001b[43mlayout\u001b[49m\u001b[43m.\u001b[49m\u001b[43mbackend\u001b[49m\u001b[43m.\u001b[49m\u001b[43mnplike\u001b[49m\u001b[43m)\u001b[49m\n\u001b[32m    251\u001b[39m parents = ak.index.Index64.zeros(layout.length, layout.backend.nplike)\n\u001b[32m    252\u001b[39m shifts = \u001b[38;5;28;01mNone\u001b[39;00m\n",
      "\u001b[36mFile \u001b[39m\u001b[32m~/anaconda3/envs/thesis/lib/python3.13/site-packages/awkward/index.py:110\u001b[39m, in \u001b[36mIndex.zeros\u001b[39m\u001b[34m(cls, length, nplike, dtype)\u001b[39m\n\u001b[32m    108\u001b[39m \u001b[38;5;28;01mif\u001b[39;00m dtype \u001b[38;5;129;01mis\u001b[39;00m \u001b[38;5;28;01mNone\u001b[39;00m:\n\u001b[32m    109\u001b[39m     dtype = \u001b[38;5;28mcls\u001b[39m._expected_dtype\n\u001b[32m--> \u001b[39m\u001b[32m110\u001b[39m \u001b[38;5;28;01mreturn\u001b[39;00m Index(\u001b[43mnplike\u001b[49m\u001b[43m.\u001b[49m\u001b[43mzeros\u001b[49m\u001b[43m(\u001b[49m\u001b[43mlength\u001b[49m\u001b[43m,\u001b[49m\u001b[43m \u001b[49m\u001b[43mdtype\u001b[49m\u001b[43m=\u001b[49m\u001b[43mdtype\u001b[49m\u001b[43m)\u001b[49m, nplike=nplike)\n",
      "\u001b[36mFile \u001b[39m\u001b[32m~/anaconda3/envs/thesis/lib/python3.13/site-packages/awkward/_nplikes/array_module.py:124\u001b[39m, in \u001b[36mArrayModuleNumpyLike.zeros\u001b[39m\u001b[34m(self, shape, dtype)\u001b[39m\n\u001b[32m    121\u001b[39m \u001b[38;5;28;01mdef\u001b[39;00m\u001b[38;5;250m \u001b[39m\u001b[34mfrom_dlpack\u001b[39m(\u001b[38;5;28mself\u001b[39m, x: Any) -> ArrayLikeT:\n\u001b[32m    122\u001b[39m     \u001b[38;5;28;01mreturn\u001b[39;00m \u001b[38;5;28mself\u001b[39m._module.from_dlpack(x)\n\u001b[32m--> \u001b[39m\u001b[32m124\u001b[39m \u001b[38;5;28;01mdef\u001b[39;00m\u001b[38;5;250m \u001b[39m\u001b[34mzeros\u001b[39m(\n\u001b[32m    125\u001b[39m     \u001b[38;5;28mself\u001b[39m,\n\u001b[32m    126\u001b[39m     shape: ShapeItem | \u001b[38;5;28mtuple\u001b[39m[ShapeItem, ...],\n\u001b[32m    127\u001b[39m     *,\n\u001b[32m    128\u001b[39m     dtype: DTypeLike | \u001b[38;5;28;01mNone\u001b[39;00m = \u001b[38;5;28;01mNone\u001b[39;00m,\n\u001b[32m    129\u001b[39m ) -> ArrayLikeT:\n\u001b[32m    130\u001b[39m     \u001b[38;5;28;01mreturn\u001b[39;00m \u001b[38;5;28mself\u001b[39m._module.zeros(shape, dtype=dtype)\n\u001b[32m    132\u001b[39m \u001b[38;5;28;01mdef\u001b[39;00m\u001b[38;5;250m \u001b[39m\u001b[34mones\u001b[39m(\n\u001b[32m    133\u001b[39m     \u001b[38;5;28mself\u001b[39m,\n\u001b[32m    134\u001b[39m     shape: ShapeItem | \u001b[38;5;28mtuple\u001b[39m[ShapeItem, ...],\n\u001b[32m    135\u001b[39m     *,\n\u001b[32m    136\u001b[39m     dtype: DTypeLike | \u001b[38;5;28;01mNone\u001b[39;00m = \u001b[38;5;28;01mNone\u001b[39;00m,\n\u001b[32m    137\u001b[39m ) -> ArrayLikeT:\n",
      "\u001b[31mKeyboardInterrupt\u001b[39m: "
     ]
    }
   ],
   "source": [
    "isAll_below_threshold(a,0.4)"
   ]
  }
 ],
 "metadata": {
  "kernelspec": {
   "display_name": "thesis",
   "language": "python",
   "name": "python3"
  },
  "language_info": {
   "codemirror_mode": {
    "name": "ipython",
    "version": 3
   },
   "file_extension": ".py",
   "mimetype": "text/x-python",
   "name": "python",
   "nbconvert_exporter": "python",
   "pygments_lexer": "ipython3",
   "version": "3.13.2"
  }
 },
 "nbformat": 4,
 "nbformat_minor": 5
}
