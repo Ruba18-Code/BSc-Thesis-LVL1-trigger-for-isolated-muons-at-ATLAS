{
 "cells": [
  {
   "cell_type": "code",
   "execution_count": 221,
   "id": "10af2a07",
   "metadata": {},
   "outputs": [],
   "source": [
    "from my_functions import *"
   ]
  },
  {
   "cell_type": "code",
   "execution_count": 222,
   "id": "0da05ca3",
   "metadata": {},
   "outputs": [],
   "source": [
    "file= uproot.open(\"/home/ruben/Escritorio/BachelorThesisRuben/Data/Muon_trees.root\") #opening the Root file with Uproot \n",
    "\n",
    "MuonTree_ZeroBias=file[\"MuonTree_ZeroBias;1\"]"
   ]
  },
  {
   "cell_type": "code",
   "execution_count": null,
   "id": "ec1ec2f8",
   "metadata": {},
   "outputs": [],
   "source": [
    "eta=MuonTree_ZeroBias.arrays([\"LVL1Muon_eta\"], entry_start=2000, entry_stop=2100)\n",
    "phi=MuonTree_ZeroBias.arrays([\"LVL1Muon_phi\"], entry_start=2000, entry_stop=2100)"
   ]
  },
  {
   "cell_type": "code",
   "execution_count": 233,
   "id": "7455a1ba",
   "metadata": {},
   "outputs": [],
   "source": [
    "def safe_len(x):\n",
    "    if isinstance(x, ak.Array):\n",
    "        return ak.num(x)\n",
    "    else:\n",
    "        return 1  # or raise an error, or return 1 if boolean, depending on your needs"
   ]
  },
  {
   "cell_type": "code",
   "execution_count": 234,
   "id": "5c0de1c1",
   "metadata": {},
   "outputs": [],
   "source": [
    "def jTower_index_below_threshold_muon(arr):\n",
    "    v = []\n",
    "    len=safe_len(arr)\n",
    "    if len > 1:\n",
    "        for i, stuff in enumerate(arr):\n",
    "            if stuff == True:\n",
    "                v.append(i)\n",
    "        return v\n",
    "    if len == 1:\n",
    "        if arr==True:\n",
    "            return(0)\n",
    "    else:\n",
    "        return(v)"
   ]
  },
  {
   "cell_type": "code",
   "execution_count": 235,
   "id": "f9c738b7",
   "metadata": {},
   "outputs": [],
   "source": [
    "def jTower_index_below_threshold_event(event):\n",
    "    v=[]\n",
    "    for muon in event:\n",
    "        v.append(jTower_index_below_threshold_muon(muon))\n",
    "    return(v)"
   ]
  },
  {
   "cell_type": "code",
   "execution_count": 236,
   "id": "64fcbce6",
   "metadata": {},
   "outputs": [],
   "source": [
    "def jTower_index_below_threshold_all(data):\n",
    "    v=[]\n",
    "    for event in data:\n",
    "        v.append(jTower_index_below_threshold_event(event))\n",
    "    return(v)"
   ]
  },
  {
   "cell_type": "code",
   "execution_count": 237,
   "id": "50c20d52",
   "metadata": {},
   "outputs": [],
   "source": [
    "event1=[[],[False],[True,True]]\n",
    "event2=[[],[],[True,True,False,False,True],[True,True],[False]]\n",
    "\n",
    "data=[event1,event2]"
   ]
  },
  {
   "cell_type": "code",
   "execution_count": 238,
   "id": "83cd7ffe",
   "metadata": {},
   "outputs": [],
   "source": [
    "eta=MuonTree_ZeroBias.arrays([\"LVL1Muon_eta\"], entry_start=990, entry_stop=1000)\n",
    "phi=MuonTree_ZeroBias.arrays([\"LVL1Muon_phi\"], entry_start=990, entry_stop=1000)"
   ]
  },
  {
   "cell_type": "code",
   "execution_count": 239,
   "id": "989c77ce",
   "metadata": {},
   "outputs": [],
   "source": [
    "res=all_events_jTower_dr(eta,phi,MuonTree_ZeroBias,MuonTree_ZeroBias,\"jTower_eta\",\"jTower_phi\")"
   ]
  },
  {
   "cell_type": "code",
   "execution_count": 240,
   "id": "562bb64e",
   "metadata": {},
   "outputs": [
    {
     "data": {
      "text/html": [
       "<pre>[[False],\n",
       " [False],\n",
       " [False],\n",
       " [False],\n",
       " [False],\n",
       " [False],\n",
       " [[False, False, False, False, False, ..., True, False, False, True, False]],\n",
       " [False],\n",
       " [False],\n",
       " [False]]\n",
       "-----------------------------------------------------------------------------\n",
       "backend: cpu\n",
       "nbytes: 7.9 kB\n",
       "type: 10 * var * union[\n",
       "    bool,\n",
       "    var * bool\n",
       "]</pre>"
      ],
      "text/plain": [
       "<Array [[False], [False], ..., [False]] type='10 * var * union[bool, var * ...'>"
      ]
     },
     "execution_count": 240,
     "metadata": {},
     "output_type": "execute_result"
    }
   ],
   "source": [
    "res_tf=isAll_below_threshold(res,1)\n",
    "\n",
    "res_tf"
   ]
  },
  {
   "cell_type": "code",
   "execution_count": 241,
   "id": "3886821e",
   "metadata": {},
   "outputs": [
    {
     "ename": "AxisError",
     "evalue": "axis=1 exceeds the depth of this array (1)",
     "output_type": "error",
     "traceback": [
      "\u001b[31m---------------------------------------------------------------------------\u001b[39m",
      "\u001b[31mAxisError\u001b[39m                                 Traceback (most recent call last)",
      "\u001b[36mCell\u001b[39m\u001b[36m \u001b[39m\u001b[32mIn[241]\u001b[39m\u001b[32m, line 1\u001b[39m\n\u001b[32m----> \u001b[39m\u001b[32m1\u001b[39m \u001b[43mjTower_index_below_threshold_all\u001b[49m\u001b[43m(\u001b[49m\u001b[43mres_tf\u001b[49m\u001b[43m)\u001b[49m\n",
      "\u001b[36mCell\u001b[39m\u001b[36m \u001b[39m\u001b[32mIn[236]\u001b[39m\u001b[32m, line 4\u001b[39m, in \u001b[36mjTower_index_below_threshold_all\u001b[39m\u001b[34m(data)\u001b[39m\n\u001b[32m      2\u001b[39m v=[]\n\u001b[32m      3\u001b[39m \u001b[38;5;28;01mfor\u001b[39;00m event \u001b[38;5;129;01min\u001b[39;00m data:\n\u001b[32m----> \u001b[39m\u001b[32m4\u001b[39m     v.append(\u001b[43mjTower_index_below_threshold_event\u001b[49m\u001b[43m(\u001b[49m\u001b[43mevent\u001b[49m\u001b[43m)\u001b[49m)\n\u001b[32m      5\u001b[39m \u001b[38;5;28;01mreturn\u001b[39;00m(v)\n",
      "\u001b[36mCell\u001b[39m\u001b[36m \u001b[39m\u001b[32mIn[235]\u001b[39m\u001b[32m, line 4\u001b[39m, in \u001b[36mjTower_index_below_threshold_event\u001b[39m\u001b[34m(event)\u001b[39m\n\u001b[32m      2\u001b[39m v=[]\n\u001b[32m      3\u001b[39m \u001b[38;5;28;01mfor\u001b[39;00m muon \u001b[38;5;129;01min\u001b[39;00m event:\n\u001b[32m----> \u001b[39m\u001b[32m4\u001b[39m     v.append(\u001b[43mjTower_index_below_threshold_muon\u001b[49m\u001b[43m(\u001b[49m\u001b[43mmuon\u001b[49m\u001b[43m)\u001b[49m)\n\u001b[32m      5\u001b[39m \u001b[38;5;28;01mreturn\u001b[39;00m(v)\n",
      "\u001b[36mCell\u001b[39m\u001b[36m \u001b[39m\u001b[32mIn[234]\u001b[39m\u001b[32m, line 3\u001b[39m, in \u001b[36mjTower_index_below_threshold_muon\u001b[39m\u001b[34m(arr)\u001b[39m\n\u001b[32m      1\u001b[39m \u001b[38;5;28;01mdef\u001b[39;00m\u001b[38;5;250m \u001b[39m\u001b[34mjTower_index_below_threshold_muon\u001b[39m(arr):\n\u001b[32m      2\u001b[39m     v = []\n\u001b[32m----> \u001b[39m\u001b[32m3\u001b[39m     \u001b[38;5;28mlen\u001b[39m=\u001b[43msafe_len\u001b[49m\u001b[43m(\u001b[49m\u001b[43marr\u001b[49m\u001b[43m)\u001b[49m\n\u001b[32m      4\u001b[39m     \u001b[38;5;28;01mif\u001b[39;00m \u001b[38;5;28mlen\u001b[39m > \u001b[32m1\u001b[39m:\n\u001b[32m      5\u001b[39m         \u001b[38;5;28;01mfor\u001b[39;00m i, stuff \u001b[38;5;129;01min\u001b[39;00m \u001b[38;5;28menumerate\u001b[39m(arr):\n",
      "\u001b[36mCell\u001b[39m\u001b[36m \u001b[39m\u001b[32mIn[233]\u001b[39m\u001b[32m, line 3\u001b[39m, in \u001b[36msafe_len\u001b[39m\u001b[34m(x)\u001b[39m\n\u001b[32m      1\u001b[39m \u001b[38;5;28;01mdef\u001b[39;00m\u001b[38;5;250m \u001b[39m\u001b[34msafe_len\u001b[39m(x):\n\u001b[32m      2\u001b[39m     \u001b[38;5;28;01mif\u001b[39;00m \u001b[38;5;28misinstance\u001b[39m(x, ak.Array):\n\u001b[32m----> \u001b[39m\u001b[32m3\u001b[39m         \u001b[38;5;28;01mreturn\u001b[39;00m \u001b[43mak\u001b[49m\u001b[43m.\u001b[49m\u001b[43mnum\u001b[49m\u001b[43m(\u001b[49m\u001b[43mx\u001b[49m\u001b[43m)\u001b[49m\n\u001b[32m      4\u001b[39m     \u001b[38;5;28;01melse\u001b[39;00m:\n\u001b[32m      5\u001b[39m         \u001b[38;5;28;01mreturn\u001b[39;00m \u001b[32m1\u001b[39m\n",
      "\u001b[36mFile \u001b[39m\u001b[32m~/anaconda3/envs/thesis/lib/python3.13/site-packages/awkward/_dispatch.py:41\u001b[39m, in \u001b[36mnamed_high_level_function.<locals>.dispatch\u001b[39m\u001b[34m(*args, **kwargs)\u001b[39m\n\u001b[32m     38\u001b[39m \u001b[38;5;129m@wraps\u001b[39m(func)\n\u001b[32m     39\u001b[39m \u001b[38;5;28;01mdef\u001b[39;00m\u001b[38;5;250m \u001b[39m\u001b[34mdispatch\u001b[39m(*args, **kwargs):\n\u001b[32m     40\u001b[39m     \u001b[38;5;66;03m# NOTE: this decorator assumes that the operation is exposed under `ak.`\u001b[39;00m\n\u001b[32m---> \u001b[39m\u001b[32m41\u001b[39m     \u001b[38;5;28;01mwith\u001b[39;00m OperationErrorContext(name, args, kwargs):\n\u001b[32m     42\u001b[39m         gen_or_result = func(*args, **kwargs)\n\u001b[32m     43\u001b[39m         \u001b[38;5;28;01mif\u001b[39;00m isgenerator(gen_or_result):\n",
      "\u001b[36mFile \u001b[39m\u001b[32m~/anaconda3/envs/thesis/lib/python3.13/site-packages/awkward/_errors.py:80\u001b[39m, in \u001b[36mErrorContext.__exit__\u001b[39m\u001b[34m(self, exception_type, exception_value, traceback)\u001b[39m\n\u001b[32m     78\u001b[39m     \u001b[38;5;28mself\u001b[39m._slate.\u001b[34m__dict__\u001b[39m.clear()\n\u001b[32m     79\u001b[39m     \u001b[38;5;66;03m# Handle caught exception\u001b[39;00m\n\u001b[32m---> \u001b[39m\u001b[32m80\u001b[39m     \u001b[38;5;28;01mraise\u001b[39;00m \u001b[38;5;28mself\u001b[39m.decorate_exception(exception_type, exception_value)\n\u001b[32m     81\u001b[39m \u001b[38;5;28;01melse\u001b[39;00m:\n\u001b[32m     82\u001b[39m     \u001b[38;5;66;03m# Step out of the way so that another ErrorContext can become primary.\u001b[39;00m\n\u001b[32m     83\u001b[39m     \u001b[38;5;28;01mif\u001b[39;00m \u001b[38;5;28mself\u001b[39m.primary() \u001b[38;5;129;01mis\u001b[39;00m \u001b[38;5;28mself\u001b[39m:\n",
      "\u001b[36mFile \u001b[39m\u001b[32m~/anaconda3/envs/thesis/lib/python3.13/site-packages/awkward/_dispatch.py:67\u001b[39m, in \u001b[36mnamed_high_level_function.<locals>.dispatch\u001b[39m\u001b[34m(*args, **kwargs)\u001b[39m\n\u001b[32m     65\u001b[39m \u001b[38;5;66;03m# Failed to find a custom overload, so resume the original function\u001b[39;00m\n\u001b[32m     66\u001b[39m \u001b[38;5;28;01mtry\u001b[39;00m:\n\u001b[32m---> \u001b[39m\u001b[32m67\u001b[39m     \u001b[38;5;28;43mnext\u001b[39;49m\u001b[43m(\u001b[49m\u001b[43mgen_or_result\u001b[49m\u001b[43m)\u001b[49m\n\u001b[32m     68\u001b[39m \u001b[38;5;28;01mexcept\u001b[39;00m \u001b[38;5;167;01mStopIteration\u001b[39;00m \u001b[38;5;28;01mas\u001b[39;00m err:\n\u001b[32m     69\u001b[39m     \u001b[38;5;28;01mreturn\u001b[39;00m err.value\n",
      "\u001b[36mFile \u001b[39m\u001b[32m~/anaconda3/envs/thesis/lib/python3.13/site-packages/awkward/operations/ak_num.py:96\u001b[39m, in \u001b[36mnum\u001b[39m\u001b[34m(array, axis, highlevel, behavior, attrs)\u001b[39m\n\u001b[32m     93\u001b[39m \u001b[38;5;28;01myield\u001b[39;00m (array,)\n\u001b[32m     95\u001b[39m \u001b[38;5;66;03m# Implementation\u001b[39;00m\n\u001b[32m---> \u001b[39m\u001b[32m96\u001b[39m \u001b[38;5;28;01mreturn\u001b[39;00m \u001b[43m_impl\u001b[49m\u001b[43m(\u001b[49m\u001b[43marray\u001b[49m\u001b[43m,\u001b[49m\u001b[43m \u001b[49m\u001b[43maxis\u001b[49m\u001b[43m,\u001b[49m\u001b[43m \u001b[49m\u001b[43mhighlevel\u001b[49m\u001b[43m,\u001b[49m\u001b[43m \u001b[49m\u001b[43mbehavior\u001b[49m\u001b[43m,\u001b[49m\u001b[43m \u001b[49m\u001b[43mattrs\u001b[49m\u001b[43m)\u001b[49m\n",
      "\u001b[36mFile \u001b[39m\u001b[32m~/anaconda3/envs/thesis/lib/python3.13/site-packages/awkward/operations/ak_num.py:135\u001b[39m, in \u001b[36m_impl\u001b[39m\u001b[34m(array, axis, highlevel, behavior, attrs)\u001b[39m\n\u001b[32m    132\u001b[39m     \u001b[38;5;28;01melif\u001b[39;00m layout.is_leaf:\n\u001b[32m    133\u001b[39m         \u001b[38;5;28;01mraise\u001b[39;00m AxisError(\u001b[33mf\u001b[39m\u001b[33m\"\u001b[39m\u001b[33maxis=\u001b[39m\u001b[38;5;132;01m{\u001b[39;00maxis\u001b[38;5;132;01m}\u001b[39;00m\u001b[33m exceeds the depth of this array (\u001b[39m\u001b[38;5;132;01m{\u001b[39;00mdepth\u001b[38;5;132;01m}\u001b[39;00m\u001b[33m)\u001b[39m\u001b[33m\"\u001b[39m)\n\u001b[32m--> \u001b[39m\u001b[32m135\u001b[39m out = \u001b[43mak\u001b[49m\u001b[43m.\u001b[49m\u001b[43m_do\u001b[49m\u001b[43m.\u001b[49m\u001b[43mrecursively_apply\u001b[49m\u001b[43m(\u001b[49m\u001b[43mlayout\u001b[49m\u001b[43m,\u001b[49m\u001b[43m \u001b[49m\u001b[43maction\u001b[49m\u001b[43m,\u001b[49m\u001b[43m \u001b[49m\u001b[43mnumpy_to_regular\u001b[49m\u001b[43m=\u001b[49m\u001b[38;5;28;43;01mTrue\u001b[39;49;00m\u001b[43m)\u001b[49m\n\u001b[32m    137\u001b[39m wrapped_out = ctx.wrap(\n\u001b[32m    138\u001b[39m     out,\n\u001b[32m    139\u001b[39m     highlevel=highlevel,\n\u001b[32m    140\u001b[39m )\n\u001b[32m    142\u001b[39m \u001b[38;5;66;03m# propagate named axis to output\u001b[39;00m\n",
      "\u001b[36mFile \u001b[39m\u001b[32m~/anaconda3/envs/thesis/lib/python3.13/site-packages/awkward/_do.py:37\u001b[39m, in \u001b[36mrecursively_apply\u001b[39m\u001b[34m(layout, action, behavior, depth_context, lateral_context, allow_records, keep_parameters, numpy_to_regular, return_simplified, return_array, function_name, regular_to_jagged)\u001b[39m\n\u001b[32m     22\u001b[39m \u001b[38;5;28;01mdef\u001b[39;00m\u001b[38;5;250m \u001b[39m\u001b[34mrecursively_apply\u001b[39m(\n\u001b[32m     23\u001b[39m     layout: Content | Record,\n\u001b[32m     24\u001b[39m     action: ActionType,\n\u001b[32m   (...)\u001b[39m\u001b[32m     34\u001b[39m     regular_to_jagged=\u001b[38;5;28;01mFalse\u001b[39;00m,\n\u001b[32m     35\u001b[39m ) -> Content | Record | \u001b[38;5;28;01mNone\u001b[39;00m:\n\u001b[32m     36\u001b[39m     \u001b[38;5;28;01mif\u001b[39;00m \u001b[38;5;28misinstance\u001b[39m(layout, Content):\n\u001b[32m---> \u001b[39m\u001b[32m37\u001b[39m         \u001b[38;5;28;01mreturn\u001b[39;00m \u001b[43mlayout\u001b[49m\u001b[43m.\u001b[49m\u001b[43m_recursively_apply\u001b[49m\u001b[43m(\u001b[49m\n\u001b[32m     38\u001b[39m \u001b[43m            \u001b[49m\u001b[43maction\u001b[49m\u001b[43m,\u001b[49m\n\u001b[32m     39\u001b[39m \u001b[43m            \u001b[49m\u001b[32;43m1\u001b[39;49m\u001b[43m,\u001b[49m\n\u001b[32m     40\u001b[39m \u001b[43m            \u001b[49m\u001b[43mcopy\u001b[49m\u001b[43m.\u001b[49m\u001b[43mcopy\u001b[49m\u001b[43m(\u001b[49m\u001b[43mdepth_context\u001b[49m\u001b[43m)\u001b[49m\u001b[43m,\u001b[49m\n\u001b[32m     41\u001b[39m \u001b[43m            \u001b[49m\u001b[43mlateral_context\u001b[49m\u001b[43m,\u001b[49m\n\u001b[32m     42\u001b[39m \u001b[43m            \u001b[49m\u001b[43m{\u001b[49m\n\u001b[32m     43\u001b[39m \u001b[43m                \u001b[49m\u001b[33;43m\"\u001b[39;49m\u001b[33;43mallow_records\u001b[39;49m\u001b[33;43m\"\u001b[39;49m\u001b[43m:\u001b[49m\u001b[43m \u001b[49m\u001b[43mallow_records\u001b[49m\u001b[43m,\u001b[49m\n\u001b[32m     44\u001b[39m \u001b[43m                \u001b[49m\u001b[33;43m\"\u001b[39;49m\u001b[33;43mkeep_parameters\u001b[39;49m\u001b[33;43m\"\u001b[39;49m\u001b[43m:\u001b[49m\u001b[43m \u001b[49m\u001b[43mkeep_parameters\u001b[49m\u001b[43m,\u001b[49m\n\u001b[32m     45\u001b[39m \u001b[43m                \u001b[49m\u001b[33;43m\"\u001b[39;49m\u001b[33;43mnumpy_to_regular\u001b[39;49m\u001b[33;43m\"\u001b[39;49m\u001b[43m:\u001b[49m\u001b[43m \u001b[49m\u001b[43mnumpy_to_regular\u001b[49m\u001b[43m,\u001b[49m\n\u001b[32m     46\u001b[39m \u001b[43m                \u001b[49m\u001b[33;43m\"\u001b[39;49m\u001b[33;43mregular_to_jagged\u001b[39;49m\u001b[33;43m\"\u001b[39;49m\u001b[43m:\u001b[49m\u001b[43m \u001b[49m\u001b[43mregular_to_jagged\u001b[49m\u001b[43m,\u001b[49m\n\u001b[32m     47\u001b[39m \u001b[43m                \u001b[49m\u001b[33;43m\"\u001b[39;49m\u001b[33;43mreturn_simplified\u001b[39;49m\u001b[33;43m\"\u001b[39;49m\u001b[43m:\u001b[49m\u001b[43m \u001b[49m\u001b[43mreturn_simplified\u001b[49m\u001b[43m,\u001b[49m\n\u001b[32m     48\u001b[39m \u001b[43m                \u001b[49m\u001b[33;43m\"\u001b[39;49m\u001b[33;43mreturn_array\u001b[39;49m\u001b[33;43m\"\u001b[39;49m\u001b[43m:\u001b[49m\u001b[43m \u001b[49m\u001b[43mreturn_array\u001b[49m\u001b[43m,\u001b[49m\n\u001b[32m     49\u001b[39m \u001b[43m                \u001b[49m\u001b[33;43m\"\u001b[39;49m\u001b[33;43mfunction_name\u001b[39;49m\u001b[33;43m\"\u001b[39;49m\u001b[43m:\u001b[49m\u001b[43m \u001b[49m\u001b[43mfunction_name\u001b[49m\u001b[43m,\u001b[49m\n\u001b[32m     50\u001b[39m \u001b[43m            \u001b[49m\u001b[43m}\u001b[49m\u001b[43m,\u001b[49m\n\u001b[32m     51\u001b[39m \u001b[43m        \u001b[49m\u001b[43m)\u001b[49m\n\u001b[32m     53\u001b[39m     \u001b[38;5;28;01melif\u001b[39;00m \u001b[38;5;28misinstance\u001b[39m(layout, Record):\n\u001b[32m     54\u001b[39m         out = recursively_apply(\n\u001b[32m     55\u001b[39m             layout._array,\n\u001b[32m     56\u001b[39m             action,\n\u001b[32m   (...)\u001b[39m\u001b[32m     65\u001b[39m             function_name,\n\u001b[32m     66\u001b[39m         )\n",
      "\u001b[36mFile \u001b[39m\u001b[32m~/anaconda3/envs/thesis/lib/python3.13/site-packages/awkward/contents/numpyarray.py:1296\u001b[39m, in \u001b[36mNumpyArray._recursively_apply\u001b[39m\u001b[34m(self, action, depth, depth_context, lateral_context, options)\u001b[39m\n\u001b[32m   1293\u001b[39m     \u001b[38;5;28;01mdef\u001b[39;00m\u001b[38;5;250m \u001b[39m\u001b[34mcontinuation\u001b[39m():\n\u001b[32m   1294\u001b[39m         \u001b[38;5;28;01mpass\u001b[39;00m\n\u001b[32m-> \u001b[39m\u001b[32m1296\u001b[39m result = \u001b[43maction\u001b[49m\u001b[43m(\u001b[49m\n\u001b[32m   1297\u001b[39m \u001b[43m    \u001b[49m\u001b[38;5;28;43mself\u001b[39;49m\u001b[43m,\u001b[49m\n\u001b[32m   1298\u001b[39m \u001b[43m    \u001b[49m\u001b[43mdepth\u001b[49m\u001b[43m=\u001b[49m\u001b[43mdepth\u001b[49m\u001b[43m,\u001b[49m\n\u001b[32m   1299\u001b[39m \u001b[43m    \u001b[49m\u001b[43mdepth_context\u001b[49m\u001b[43m=\u001b[49m\u001b[43mdepth_context\u001b[49m\u001b[43m,\u001b[49m\n\u001b[32m   1300\u001b[39m \u001b[43m    \u001b[49m\u001b[43mlateral_context\u001b[49m\u001b[43m=\u001b[49m\u001b[43mlateral_context\u001b[49m\u001b[43m,\u001b[49m\n\u001b[32m   1301\u001b[39m \u001b[43m    \u001b[49m\u001b[43mcontinuation\u001b[49m\u001b[43m=\u001b[49m\u001b[43mcontinuation\u001b[49m\u001b[43m,\u001b[49m\n\u001b[32m   1302\u001b[39m \u001b[43m    \u001b[49m\u001b[43mbackend\u001b[49m\u001b[43m=\u001b[49m\u001b[38;5;28;43mself\u001b[39;49m\u001b[43m.\u001b[49m\u001b[43m_backend\u001b[49m\u001b[43m,\u001b[49m\n\u001b[32m   1303\u001b[39m \u001b[43m    \u001b[49m\u001b[43moptions\u001b[49m\u001b[43m=\u001b[49m\u001b[43moptions\u001b[49m\u001b[43m,\u001b[49m\n\u001b[32m   1304\u001b[39m \u001b[43m\u001b[49m\u001b[43m)\u001b[49m\n\u001b[32m   1306\u001b[39m \u001b[38;5;28;01mif\u001b[39;00m \u001b[38;5;28misinstance\u001b[39m(result, Content):\n\u001b[32m   1307\u001b[39m     \u001b[38;5;28;01mreturn\u001b[39;00m result\n",
      "\u001b[36mFile \u001b[39m\u001b[32m~/anaconda3/envs/thesis/lib/python3.13/site-packages/awkward/operations/ak_num.py:133\u001b[39m, in \u001b[36m_impl.<locals>.action\u001b[39m\u001b[34m(layout, depth, **kwargs)\u001b[39m\n\u001b[32m    130\u001b[39m     \u001b[38;5;28;01mreturn\u001b[39;00m ak.contents.NumpyArray(layout.stops.data - layout.starts.data)\n\u001b[32m    132\u001b[39m \u001b[38;5;28;01melif\u001b[39;00m layout.is_leaf:\n\u001b[32m--> \u001b[39m\u001b[32m133\u001b[39m     \u001b[38;5;28;01mraise\u001b[39;00m AxisError(\u001b[33mf\u001b[39m\u001b[33m\"\u001b[39m\u001b[33maxis=\u001b[39m\u001b[38;5;132;01m{\u001b[39;00maxis\u001b[38;5;132;01m}\u001b[39;00m\u001b[33m exceeds the depth of this array (\u001b[39m\u001b[38;5;132;01m{\u001b[39;00mdepth\u001b[38;5;132;01m}\u001b[39;00m\u001b[33m)\u001b[39m\u001b[33m\"\u001b[39m)\n",
      "\u001b[31mAxisError\u001b[39m: axis=1 exceeds the depth of this array (1)",
      "\nThis error occurred while calling\n\n    ak.num(\n        <Array [False, False, False, ..., True, False] type='7680 * bool'>\n    )"
     ]
    }
   ],
   "source": [
    "jTower_index_below_threshold_all(res_tf)"
   ]
  },
  {
   "cell_type": "code",
   "execution_count": null,
   "id": "6db0a365",
   "metadata": {},
   "outputs": [
    {
     "data": {
      "text/plain": [
       "numpy.bool"
      ]
     },
     "execution_count": 183,
     "metadata": {},
     "output_type": "execute_result"
    }
   ],
   "source": [
    "type(res_tf)\n",
    "type(res_tf[0][0])"
   ]
  },
  {
   "cell_type": "code",
   "execution_count": null,
   "id": "7751c9c5",
   "metadata": {},
   "outputs": [],
   "source": []
  }
 ],
 "metadata": {
  "kernelspec": {
   "display_name": "thesis",
   "language": "python",
   "name": "python3"
  },
  "language_info": {
   "codemirror_mode": {
    "name": "ipython",
    "version": 3
   },
   "file_extension": ".py",
   "mimetype": "text/x-python",
   "name": "python",
   "nbconvert_exporter": "python",
   "pygments_lexer": "ipython3",
   "version": "3.13.2"
  }
 },
 "nbformat": 4,
 "nbformat_minor": 5
}
