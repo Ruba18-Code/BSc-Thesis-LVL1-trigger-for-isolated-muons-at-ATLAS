{
 "cells": [
  {
   "cell_type": "code",
   "execution_count": 2,
   "metadata": {},
   "outputs": [],
   "source": [
    "from my_functions import*"
   ]
  },
  {
   "cell_type": "code",
   "execution_count": 3,
   "metadata": {},
   "outputs": [],
   "source": [
    "file= uproot.open(\"/home/ruben/Escritorio/BachelorThesisRuben/Data/Muon_trees.root\") #opening the Root file with Uproot \n",
    "MuonTree_ZeroBias=file[\"MuonTree_ZeroBias;1\"]\n",
    "MuonTree_Zmumu=file[\"MuonTree_Zmumu;1\"]"
   ]
  },
  {
   "cell_type": "code",
   "execution_count": 4,
   "metadata": {},
   "outputs": [
    {
     "name": "stdout",
     "output_type": "stream",
     "text": [
      "quality_selector: Only 21.265 % of the data has been selected\n",
      "quality_selector: Only 21.265 % of the data has been selected\n",
      "quality_selector: Only 21.265 % of the data has been selected\n"
     ]
    },
    {
     "name": "stderr",
     "output_type": "stream",
     "text": [
      "100%|██████████| 100/100 [00:00<00:00, 1534.36it/s]"
     ]
    },
    {
     "name": "stdout",
     "output_type": "stream",
     "text": [
      "energy_cut: Only 5.79% of the events have survived the cut with a lower cut of 14000 and no upper cut\n",
      "energy_cut: Only 5.79% of the events have survived the cut with a lower cut of 14000 and no upper cut\n",
      "energy_cut: Only 5.79% of the events have survived the cut with a lower cut of 14000 and no upper cut\n"
     ]
    },
    {
     "name": "stderr",
     "output_type": "stream",
     "text": [
      "\n"
     ]
    }
   ],
   "source": [
    "#Prepare the data for the plots\n",
    "\n",
    "#Choose the range of events to plot\n",
    "nmin=0\n",
    "nmax=100\n",
    "\n",
    "#Select quality 0 Z->mumu\n",
    "Zmumu_pt=quality_selector(MuonTree_Zmumu[\"muon_quality\"].array(),MuonTree_Zmumu[\"muon_pt\"].array(),0)[nmin:nmax]\n",
    "Zmumu_eta=quality_selector(MuonTree_Zmumu[\"muon_quality\"].array(),MuonTree_Zmumu[\"muon_eta\"].array(),0)[nmin:nmax]\n",
    "Zmumu_phi=quality_selector(MuonTree_Zmumu[\"muon_quality\"].array(),MuonTree_Zmumu[\"muon_phi\"].array(),0)[nmin:nmax]\n",
    "\n",
    "#And select the Z peak pairs\n",
    "Zmumu_pt, Zmumu_eta, Zmumu_phi = get_all_Z_peak_pairs(Zmumu_pt,Zmumu_eta,Zmumu_phi)\n",
    "\n",
    "#Select the ZeroBias data with energy cut\n",
    "ZeroBias_eta=energy_cut(MuonTree_ZeroBias[\"muon_pt\"].array(), MuonTree_ZeroBias[\"muon_eta\"].array())[nmin:nmax]\n",
    "ZeroBias_phi=energy_cut(MuonTree_ZeroBias[\"muon_pt\"].array(), MuonTree_ZeroBias[\"muon_phi\"].array())[nmin:nmax]\n",
    "ZeroBias_pt=energy_cut(MuonTree_ZeroBias[\"muon_pt\"].array(), MuonTree_ZeroBias[\"muon_pt\"].array())[nmin:nmax]"
   ]
  },
  {
   "cell_type": "code",
   "execution_count": 5,
   "metadata": {},
   "outputs": [],
   "source": [
    "Zmumu_range=[0, nmax]\n",
    "ZeroBias_range=[0, nmax]\n",
    "bins=np.linspace(0,1,250)\n"
   ]
  },
  {
   "cell_type": "code",
   "execution_count": null,
   "metadata": {},
   "outputs": [
    {
     "name": "stderr",
     "output_type": "stream",
     "text": [
      "Computing ROC curve:   0%|\u001b[32m          \u001b[0m| 0/1 [00:00<?, ?it/s].29s/it]"
     ]
    }
   ],
   "source": [
    "dr_list=[]\n",
    "FPR_list=[]\n",
    "\n",
    "i=50\n",
    "j=20\n",
    "for val in range(i):\n",
    "    mins, maxs = generate_random_float_pairs(0.0, 0.8, j, min_diff=0.2)\n",
    "    dr_min=mins\n",
    "    dr_max=maxs\n",
    "\n",
    "    dr, FPR_value =ROC_curve_efficiency_optimiser(MuonTree_Zmumu, MuonTree_ZeroBias, Zmumu_pt, Zmumu_eta, Zmumu_phi, ZeroBias_pt, ZeroBias_eta, ZeroBias_phi,\n",
    "                                Zmumu_range, ZeroBias_range, bins, dr_min, dr_max)\n",
    "    dr_list.append(dr)\n",
    "    FPR_list.append(FPR_value)\n",
    "\n",
    "k=i*j\n",
    "min_FPR=min(FPR_list)\n",
    "best_dr=dr_list[FPR_list.index(min_FPR)]\n",
    "print(f\"After\", i*j ,f\"iterations, the best delta R range is: {best_dr} with an FPR of {min_FPR}\")"
   ]
  },
  {
   "cell_type": "code",
   "execution_count": null,
   "metadata": {},
   "outputs": [],
   "source": []
  }
 ],
 "metadata": {
  "kernelspec": {
   "display_name": "thesis",
   "language": "python",
   "name": "python3"
  },
  "language_info": {
   "codemirror_mode": {
    "name": "ipython",
    "version": 3
   },
   "file_extension": ".py",
   "mimetype": "text/x-python",
   "name": "python",
   "nbconvert_exporter": "python",
   "pygments_lexer": "ipython3",
   "version": "3.13.2"
  }
 },
 "nbformat": 4,
 "nbformat_minor": 2
}
