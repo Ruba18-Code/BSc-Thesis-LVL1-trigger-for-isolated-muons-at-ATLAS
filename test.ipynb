{
 "cells": [
  {
   "cell_type": "code",
   "execution_count": 1,
   "metadata": {},
   "outputs": [],
   "source": [
    "from my_functions import*"
   ]
  },
  {
   "cell_type": "code",
   "execution_count": 2,
   "metadata": {},
   "outputs": [],
   "source": [
    "file= uproot.open(\"/home/ruben/Escritorio/BachelorThesisRuben/Data/Muon_trees.root\") #opening the Root file with Uproot \n",
    "MuonTree_ZeroBias=file[\"MuonTree_ZeroBias;1\"]\n",
    "MuonTree_Zmumu=file[\"MuonTree_Zmumu;1\"]"
   ]
  },
  {
   "cell_type": "code",
   "execution_count": 3,
   "metadata": {},
   "outputs": [
    {
     "name": "stdout",
     "output_type": "stream",
     "text": [
      "quality_selector: Only 21.265 % of the data has been selected\n",
      "quality_selector: Only 21.265 % of the data has been selected\n",
      "quality_selector: Only 21.265 % of the data has been selected\n"
     ]
    },
    {
     "name": "stderr",
     "output_type": "stream",
     "text": [
      "100%|██████████| 100/100 [00:00<00:00, 1326.46it/s]\n"
     ]
    },
    {
     "name": "stdout",
     "output_type": "stream",
     "text": [
      "energy_cut: Only 5.79% of the events have survived the cut with a lower cut of 14000 and no upper cut\n",
      "energy_cut: Only 5.79% of the events have survived the cut with a lower cut of 14000 and no upper cut\n",
      "energy_cut: Only 5.79% of the events have survived the cut with a lower cut of 14000 and no upper cut\n"
     ]
    }
   ],
   "source": [
    "#Prepare the data for the plots\n",
    "\n",
    "#Choose the range of events to plot\n",
    "nmin=0\n",
    "nmax=100\n",
    "\n",
    "#Select quality 0 Z->mumu\n",
    "Zmumu_pt=quality_selector(MuonTree_Zmumu[\"muon_quality\"].array(),MuonTree_Zmumu[\"muon_pt\"].array(),0)[nmin:nmax]\n",
    "Zmumu_eta=quality_selector(MuonTree_Zmumu[\"muon_quality\"].array(),MuonTree_Zmumu[\"muon_eta\"].array(),0)[nmin:nmax]\n",
    "Zmumu_phi=quality_selector(MuonTree_Zmumu[\"muon_quality\"].array(),MuonTree_Zmumu[\"muon_phi\"].array(),0)[nmin:nmax]\n",
    "\n",
    "#And select the Z peak pairs\n",
    "Zmumu_pt, Zmumu_eta, Zmumu_phi = get_all_Z_peak_pairs(Zmumu_pt,Zmumu_eta,Zmumu_phi)\n",
    "\n",
    "#Select the ZeroBias data with energy cut\n",
    "ZeroBias_eta=energy_cut(MuonTree_ZeroBias[\"muon_pt\"].array(), MuonTree_ZeroBias[\"muon_eta\"].array())[nmin:nmax]\n",
    "ZeroBias_phi=energy_cut(MuonTree_ZeroBias[\"muon_pt\"].array(), MuonTree_ZeroBias[\"muon_phi\"].array())[nmin:nmax]\n",
    "ZeroBias_pt=energy_cut(MuonTree_ZeroBias[\"muon_pt\"].array(), MuonTree_ZeroBias[\"muon_pt\"].array())[nmin:nmax]"
   ]
  },
  {
   "cell_type": "code",
   "execution_count": 8,
   "metadata": {},
   "outputs": [
    {
     "name": "stderr",
     "output_type": "stream",
     "text": [
      "                                                                  2.08s/it]"
     ]
    },
    {
     "name": "stdout",
     "output_type": "stream",
     "text": [
      "The best [min_dr,max_dr] range is: [0.0778 0.5667] \n",
      " with an FPR of 0.8 for a TPR of at least 90%\n"
     ]
    },
    {
     "name": "stderr",
     "output_type": "stream",
     "text": [
      "\r"
     ]
    }
   ],
   "source": [
    "Zmumu_range=[0, nmax]\n",
    "ZeroBias_range=[0, nmax]\n",
    "bins=np.linspace(0,1,250)\n",
    "dr_min=np.linspace(0.0,0.1,10)\n",
    "dr_max=np.linspace(0.1,0.7,10)\n",
    "\n",
    "dr, _ =ROC_curve_efficiency_optimiser(MuonTree_Zmumu, MuonTree_ZeroBias, Zmumu_pt, Zmumu_eta, Zmumu_phi, ZeroBias_pt, ZeroBias_eta, ZeroBias_phi,\n",
    "                                Zmumu_range, ZeroBias_range, bins, dr_min, dr_max)"
   ]
  }
 ],
 "metadata": {
  "kernelspec": {
   "display_name": "thesis",
   "language": "python",
   "name": "python3"
  },
  "language_info": {
   "codemirror_mode": {
    "name": "ipython",
    "version": 3
   },
   "file_extension": ".py",
   "mimetype": "text/x-python",
   "name": "python",
   "nbconvert_exporter": "python",
   "pygments_lexer": "ipython3",
   "version": "3.13.2"
  }
 },
 "nbformat": 4,
 "nbformat_minor": 2
}
