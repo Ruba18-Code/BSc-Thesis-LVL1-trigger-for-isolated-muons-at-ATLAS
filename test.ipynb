{
 "cells": [
  {
   "cell_type": "code",
   "execution_count": 17,
   "metadata": {},
   "outputs": [],
   "source": [
    "from my_functions import*"
   ]
  },
  {
   "cell_type": "code",
   "execution_count": 18,
   "metadata": {},
   "outputs": [],
   "source": [
    "file= uproot.open(\"/home/ruben/Escritorio/BachelorThesisRuben/Data/Muon_trees.root\") #opening the Root file with Uproot \n",
    "MuonTree_ZeroBias=file[\"MuonTree_ZeroBias;1\"]\n",
    "MuonTree_Zmumu=file[\"MuonTree_Zmumu;1\"]"
   ]
  },
  {
   "cell_type": "code",
   "execution_count": 19,
   "metadata": {},
   "outputs": [
    {
     "name": "stdout",
     "output_type": "stream",
     "text": [
      "energy_cut: Only 5.79% of the events have survived the cut with a lower cut of 14000 and no upper cut\n"
     ]
    }
   ],
   "source": [
    "res=energy_cut(MuonTree_ZeroBias[\"muon_pt\"].array(), MuonTree_ZeroBias[\"muon_eta\"].array())"
   ]
  },
  {
   "cell_type": "markdown",
   "metadata": {},
   "source": []
  },
  {
   "cell_type": "code",
   "execution_count": 20,
   "metadata": {},
   "outputs": [
    {
     "data": {
      "text/html": [
       "<pre>[[-1.24],\n",
       " [-0.484],\n",
       " [-1.88],\n",
       " [2.36],\n",
       " [-1.66],\n",
       " [-1.59],\n",
       " [2.22],\n",
       " [1.52],\n",
       " [-1.93],\n",
       " [0.852],\n",
       " ...,\n",
       " [-2.46],\n",
       " [-0.957],\n",
       " [-1.66, -1.71],\n",
       " [2.08],\n",
       " [1.94],\n",
       " [-1.54],\n",
       " [-0.44],\n",
       " [2.03],\n",
       " [2.45]]\n",
       "---------------------------\n",
       "backend: cpu\n",
       "nbytes: 234.5 kB\n",
       "type: 11575 * var * float32</pre>"
      ],
      "text/plain": [
       "<Array [[-1.24], [-0.484], ..., [2.03], [2.45]] type='11575 * var * float32'>"
      ]
     },
     "execution_count": 20,
     "metadata": {},
     "output_type": "execute_result"
    }
   ],
   "source": [
    "res"
   ]
  }
 ],
 "metadata": {
  "kernelspec": {
   "display_name": "thesis",
   "language": "python",
   "name": "python3"
  },
  "language_info": {
   "codemirror_mode": {
    "name": "ipython",
    "version": 3
   },
   "file_extension": ".py",
   "mimetype": "text/x-python",
   "name": "python",
   "nbconvert_exporter": "python",
   "pygments_lexer": "ipython3",
   "version": "3.13.2"
  }
 },
 "nbformat": 4,
 "nbformat_minor": 2
}
