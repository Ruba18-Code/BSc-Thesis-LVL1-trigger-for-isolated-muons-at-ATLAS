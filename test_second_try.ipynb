{
 "cells": [
  {
   "cell_type": "code",
   "execution_count": 24,
   "id": "10af2a07",
   "metadata": {},
   "outputs": [],
   "source": [
    "from my_functions import *"
   ]
  },
  {
   "cell_type": "code",
   "execution_count": 25,
   "id": "0da05ca3",
   "metadata": {},
   "outputs": [
    {
     "name": "stdout",
     "output_type": "stream",
     "text": [
      "name                 | typename                 | interpretation                \n",
      "---------------------+--------------------------+-------------------------------\n",
      "muon_pt              | std::vector<float>       | AsJagged(AsDtype('>f4'), he...\n",
      "muon_eta             | std::vector<float>       | AsJagged(AsDtype('>f4'), he...\n",
      "muon_phi             | std::vector<float>       | AsJagged(AsDtype('>f4'), he...\n",
      "muon_e               | std::vector<float>       | AsJagged(AsDtype('>f4'), he...\n",
      "muon_type            | std::vector<int32_t>     | AsJagged(AsDtype('>i4'), he...\n",
      "muon_charge          | std::vector<float>       | AsJagged(AsDtype('>f4'), he...\n",
      "muon_author          | std::vector<int32_t>     | AsJagged(AsDtype('>i4'), he...\n",
      "muon_quality         | std::vector<int32_t>     | AsJagged(AsDtype('>i4'), he...\n",
      "muon_passedIDCuts    | std::vector<bool>        | AsJagged(AsDtype('bool'), h...\n",
      "jTower_et            | std::vector<float>       | AsJagged(AsDtype('>f4'), he...\n",
      "jTower_et_MeV        | std::vector<float>       | AsJagged(AsDtype('>f4'), he...\n",
      "jTower_eta           | std::vector<float>       | AsJagged(AsDtype('>f4'), he...\n",
      "jTower_phi           | std::vector<float>       | AsJagged(AsDtype('>f4'), he...\n",
      "jTower_calosource    | std::vector<int32_t>     | AsJagged(AsDtype('>i4'), he...\n",
      "jTower_isCore        | std::vector<bool>        | AsJagged(AsDtype('bool'), h...\n",
      "LVL1Muon_et          | std::vector<float>       | AsJagged(AsDtype('>f4'), he...\n",
      "LVL1Muon_eta         | std::vector<float>       | AsJagged(AsDtype('>f4'), he...\n",
      "LVL1Muon_phi         | std::vector<float>       | AsJagged(AsDtype('>f4'), he...\n",
      "LVL1Muon_source      | std::vector<int32_t>     | AsJagged(AsDtype('>i4'), he...\n"
     ]
    }
   ],
   "source": [
    "file= uproot.open(\"/home/ruben/Escritorio/BachelorThesisRuben/Data/Muon_trees.root\") #opening the Root file with Uproot \n",
    "\n",
    "MuonTree_ZeroBias=file[\"MuonTree_ZeroBias;1\"]\n",
    "tree=file[\"MuonTree_ZeroBias;1\"] #here we assign one of the keys to a variable \n",
    "tree.show() #by saying .show we display the list below, where we can see the datasets contained by \""
   ]
  },
  {
   "cell_type": "code",
   "execution_count": 26,
   "id": "ec1ec2f8",
   "metadata": {},
   "outputs": [],
   "source": [
    "eta=MuonTree_ZeroBias.arrays([\"LVL1Muon_eta\"], entry_start=996, entry_stop=997)\n",
    "phi=MuonTree_ZeroBias.arrays([\"LVL1Muon_phi\"], entry_start=996, entry_stop=997)\n",
    "et=MuonTree_ZeroBias.arrays([\"LVL1Muon_et\"], entry_start=996, entry_stop=997)"
   ]
  },
  {
   "cell_type": "code",
   "execution_count": 27,
   "id": "1ce60ac4",
   "metadata": {},
   "outputs": [],
   "source": [
    "#Remove field information and leave only the numeric value\n",
    "eta=eta[eta.fields[0]]\n",
    "phi=phi[phi.fields[0]]\n",
    "et=et[et.fields[0]]\n",
    "#Remove nesting\n",
    "eta=ak.flatten(eta,axis=None)\n",
    "phi=ak.flatten(phi,axis=None)\n",
    "et=ak.flatten(et, axis=None)"
   ]
  },
  {
   "cell_type": "code",
   "execution_count": 28,
   "id": "7b792544",
   "metadata": {},
   "outputs": [],
   "source": [
    "#jTower selector allows to select one event from the tower. We choose 996 \n",
    "jTower_eta=jTower_selector(MuonTree_ZeroBias,\"jTower_eta\",996)\n",
    "muon_eta=eta\n",
    "\n",
    "jTower_phi=jTower_selector(MuonTree_ZeroBias,\"jTower_phi\",996)\n",
    "muon_phi=phi\n",
    "\n",
    "jTower_et=jTower_selector(MuonTree_ZeroBias,\"jTower_et\",996)\n",
    "muon_et=et #Taking the massless approximation for muons: e_t = p_t (thats a good approximation)"
   ]
  },
  {
   "cell_type": "code",
   "execution_count": null,
   "id": "b39acd96",
   "metadata": {},
   "outputs": [],
   "source": [
    "#The idea is:\n",
    "\n",
    "#First create an isolation function: \n",
    "    #-Compute the values of dr that are below a certain threshold and generate a boolean mask of Trues and False\n",
    "    #-Apply the mask to the energy vector and sum it up. That'll give an estimate of the muon energy\n",
    "\n",
    "#Effectively scale this for N events"
   ]
  },
  {
   "cell_type": "code",
   "execution_count": null,
   "id": "fd5151f3",
   "metadata": {},
   "outputs": [],
   "source": [
    "def dr_threshold_boolean_mask_event(event_dr,threshold):\n",
    "\n",
    "    \"\"\"\"\n",
    "    Takes an array containing the delta r values for an event and its respective jTower,\n",
    "    then it starts to iterate over al muons in the event and generates a boolean mask containing 'True'\n",
    "    for all delta_r values that are below a certain threshold.\n",
    "\n",
    "    By using NumPy we're able to do this in a vectorized way (meaning: operating over all the array at once, instead of looping), which is\n",
    "    shorter and apparently more resource efficient\n",
    "\n",
    "    The idea is to apply this boolean mask to the energy vector, that will select the energy elements that are associated with the muon\n",
    "    \"\"\"\n",
    "    event_dr = np.array(event_dr)  # ensures it's a NumPy array\n",
    "    return event_dr < threshold"
   ]
  },
  {
   "cell_type": "code",
   "execution_count": null,
   "id": "fb5f5a1b",
   "metadata": {},
   "outputs": [],
   "source": [
    "#Zip loop the muons in an event \n",
    "\n",
    "def \n",
    "for (muon_eta,muon_phi) in zip(event_eta,event_phi):\n",
    "    delta_r"
   ]
  }
 ],
 "metadata": {
  "kernelspec": {
   "display_name": "thesis",
   "language": "python",
   "name": "python3"
  },
  "language_info": {
   "codemirror_mode": {
    "name": "ipython",
    "version": 3
   },
   "file_extension": ".py",
   "mimetype": "text/x-python",
   "name": "python",
   "nbconvert_exporter": "python",
   "pygments_lexer": "ipython3",
   "version": "3.13.2"
  }
 },
 "nbformat": 4,
 "nbformat_minor": 5
}
