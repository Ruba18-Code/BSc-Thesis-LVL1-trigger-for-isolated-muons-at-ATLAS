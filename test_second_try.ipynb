{
 "cells": [
  {
   "cell_type": "code",
   "execution_count": 1,
   "id": "10af2a07",
   "metadata": {},
   "outputs": [],
   "source": [
    "from my_functions import *"
   ]
  },
  {
   "cell_type": "code",
   "execution_count": 2,
   "id": "0da05ca3",
   "metadata": {},
   "outputs": [
    {
     "name": "stdout",
     "output_type": "stream",
     "text": [
      "name                 | typename                 | interpretation                \n",
      "---------------------+--------------------------+-------------------------------\n",
      "muon_pt              | std::vector<float>       | AsJagged(AsDtype('>f4'), he...\n",
      "muon_eta             | std::vector<float>       | AsJagged(AsDtype('>f4'), he...\n",
      "muon_phi             | std::vector<float>       | AsJagged(AsDtype('>f4'), he...\n",
      "muon_e               | std::vector<float>       | AsJagged(AsDtype('>f4'), he...\n",
      "muon_type            | std::vector<int32_t>     | AsJagged(AsDtype('>i4'), he...\n",
      "muon_charge          | std::vector<float>       | AsJagged(AsDtype('>f4'), he...\n",
      "muon_author          | std::vector<int32_t>     | AsJagged(AsDtype('>i4'), he...\n",
      "muon_quality         | std::vector<int32_t>     | AsJagged(AsDtype('>i4'), he...\n",
      "muon_passedIDCuts    | std::vector<bool>        | AsJagged(AsDtype('bool'), h...\n",
      "jTower_et            | std::vector<float>       | AsJagged(AsDtype('>f4'), he...\n",
      "jTower_et_MeV        | std::vector<float>       | AsJagged(AsDtype('>f4'), he...\n",
      "jTower_eta           | std::vector<float>       | AsJagged(AsDtype('>f4'), he...\n",
      "jTower_phi           | std::vector<float>       | AsJagged(AsDtype('>f4'), he...\n",
      "jTower_calosource    | std::vector<int32_t>     | AsJagged(AsDtype('>i4'), he...\n",
      "jTower_isCore        | std::vector<bool>        | AsJagged(AsDtype('bool'), h...\n",
      "LVL1Muon_et          | std::vector<float>       | AsJagged(AsDtype('>f4'), he...\n",
      "LVL1Muon_eta         | std::vector<float>       | AsJagged(AsDtype('>f4'), he...\n",
      "LVL1Muon_phi         | std::vector<float>       | AsJagged(AsDtype('>f4'), he...\n",
      "LVL1Muon_source      | std::vector<int32_t>     | AsJagged(AsDtype('>i4'), he...\n"
     ]
    }
   ],
   "source": [
    "file= uproot.open(\"/home/ruben/Escritorio/BachelorThesisRuben/Data/Muon_trees.root\") #opening the Root file with Uproot \n",
    "\n",
    "MuonTree_ZeroBias=file[\"MuonTree_ZeroBias;1\"]\n",
    "tree=file[\"MuonTree_ZeroBias;1\"] #here we assign one of the keys to a variable \n",
    "tree.show() #by saying .show we display the list below, where we can see the datasets contained by \""
   ]
  },
  {
   "cell_type": "code",
   "execution_count": 3,
   "id": "2606f1ca",
   "metadata": {},
   "outputs": [
    {
     "name": "stderr",
     "output_type": "stream",
     "text": [
      "100%|██████████| 100/100 [00:24<00:00,  4.12it/s]\n"
     ]
    },
    {
     "data": {
      "text/plain": [
       "[[],\n",
       " [],\n",
       " [],\n",
       " [],\n",
       " [],\n",
       " [],\n",
       " [],\n",
       " [],\n",
       " [],\n",
       " [],\n",
       " [],\n",
       " [],\n",
       " [],\n",
       " [],\n",
       " [],\n",
       " [],\n",
       " [],\n",
       " [],\n",
       " [],\n",
       " [],\n",
       " [],\n",
       " [],\n",
       " [],\n",
       " [],\n",
       " [],\n",
       " [],\n",
       " [],\n",
       " [],\n",
       " [],\n",
       " [],\n",
       " [],\n",
       " [],\n",
       " [],\n",
       " [],\n",
       " [],\n",
       " [],\n",
       " [],\n",
       " [],\n",
       " [],\n",
       " [],\n",
       " [],\n",
       " [],\n",
       " [],\n",
       " [],\n",
       " [],\n",
       " [],\n",
       " [],\n",
       " [],\n",
       " [],\n",
       " [],\n",
       " [],\n",
       " [],\n",
       " [],\n",
       " [],\n",
       " [],\n",
       " [],\n",
       " [],\n",
       " [],\n",
       " [],\n",
       " [],\n",
       " [],\n",
       " [],\n",
       " [],\n",
       " [],\n",
       " [],\n",
       " [],\n",
       " [],\n",
       " [],\n",
       " [],\n",
       " [],\n",
       " [],\n",
       " [],\n",
       " [],\n",
       " [],\n",
       " [],\n",
       " [],\n",
       " [],\n",
       " [],\n",
       " [],\n",
       " [],\n",
       " [],\n",
       " [],\n",
       " [],\n",
       " [],\n",
       " [],\n",
       " [],\n",
       " [],\n",
       " [],\n",
       " [],\n",
       " [],\n",
       " [],\n",
       " [],\n",
       " [],\n",
       " [],\n",
       " [],\n",
       " [],\n",
       " [],\n",
       " [],\n",
       " [],\n",
       " []]"
      ]
     },
     "execution_count": 3,
     "metadata": {},
     "output_type": "execute_result"
    }
   ],
   "source": [
    "muon_isolation_all_events(MuonTree_ZeroBias,0.4,100)"
   ]
  }
 ],
 "metadata": {
  "kernelspec": {
   "display_name": "thesis",
   "language": "python",
   "name": "python3"
  },
  "language_info": {
   "codemirror_mode": {
    "name": "ipython",
    "version": 3
   },
   "file_extension": ".py",
   "mimetype": "text/x-python",
   "name": "python",
   "nbconvert_exporter": "python",
   "pygments_lexer": "ipython3",
   "version": "3.13.2"
  }
 },
 "nbformat": 4,
 "nbformat_minor": 5
}
