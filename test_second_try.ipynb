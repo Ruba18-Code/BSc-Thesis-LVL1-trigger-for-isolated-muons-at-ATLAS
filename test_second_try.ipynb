{
 "cells": [
  {
   "cell_type": "code",
   "execution_count": 2,
   "id": "10af2a07",
   "metadata": {},
   "outputs": [],
   "source": [
    "from my_functions import *"
   ]
  },
  {
   "cell_type": "code",
   "execution_count": 3,
   "id": "0da05ca3",
   "metadata": {},
   "outputs": [
    {
     "name": "stdout",
     "output_type": "stream",
     "text": [
      "name                 | typename                 | interpretation                \n",
      "---------------------+--------------------------+-------------------------------\n",
      "muon_pt              | std::vector<float>       | AsJagged(AsDtype('>f4'), he...\n",
      "muon_eta             | std::vector<float>       | AsJagged(AsDtype('>f4'), he...\n",
      "muon_phi             | std::vector<float>       | AsJagged(AsDtype('>f4'), he...\n",
      "muon_e               | std::vector<float>       | AsJagged(AsDtype('>f4'), he...\n",
      "muon_type            | std::vector<int32_t>     | AsJagged(AsDtype('>i4'), he...\n",
      "muon_charge          | std::vector<float>       | AsJagged(AsDtype('>f4'), he...\n",
      "muon_author          | std::vector<int32_t>     | AsJagged(AsDtype('>i4'), he...\n",
      "muon_quality         | std::vector<int32_t>     | AsJagged(AsDtype('>i4'), he...\n",
      "muon_passedIDCuts    | std::vector<bool>        | AsJagged(AsDtype('bool'), h...\n",
      "jTower_et            | std::vector<float>       | AsJagged(AsDtype('>f4'), he...\n",
      "jTower_et_MeV        | std::vector<float>       | AsJagged(AsDtype('>f4'), he...\n",
      "jTower_eta           | std::vector<float>       | AsJagged(AsDtype('>f4'), he...\n",
      "jTower_phi           | std::vector<float>       | AsJagged(AsDtype('>f4'), he...\n",
      "jTower_calosource    | std::vector<int32_t>     | AsJagged(AsDtype('>i4'), he...\n",
      "jTower_isCore        | std::vector<bool>        | AsJagged(AsDtype('bool'), h...\n",
      "LVL1Muon_et          | std::vector<float>       | AsJagged(AsDtype('>f4'), he...\n",
      "LVL1Muon_eta         | std::vector<float>       | AsJagged(AsDtype('>f4'), he...\n",
      "LVL1Muon_phi         | std::vector<float>       | AsJagged(AsDtype('>f4'), he...\n",
      "LVL1Muon_source      | std::vector<int32_t>     | AsJagged(AsDtype('>i4'), he...\n"
     ]
    }
   ],
   "source": [
    "file= uproot.open(\"/home/ruben/Escritorio/BachelorThesisRuben/Data/Muon_trees.root\") #opening the Root file with Uproot \n",
    "\n",
    "MuonTree_ZeroBias=file[\"MuonTree_ZeroBias;1\"]\n",
    "tree=file[\"MuonTree_ZeroBias;1\"] #here we assign one of the keys to a variable \n",
    "tree.show() #by saying .show we display the list below, where we can see the datasets contained by \""
   ]
  },
  {
   "cell_type": "code",
   "execution_count": 8,
   "id": "2606f1ca",
   "metadata": {},
   "outputs": [
    {
     "name": "stderr",
     "output_type": "stream",
     "text": [
      "100%|██████████| 205/205 [00:44<00:00,  4.60it/s]"
     ]
    },
    {
     "name": "stdout",
     "output_type": "stream",
     "text": [
      "[[], [np.float32(10475.0)], [], [], [], [], [], [np.float32(4400.0)], [np.float32(4125.0), np.float32(3500.0)], [], [], [], [], [], [], [], [], [], [], [], [], [], [], [], [], [], [], [], [], [], [], [], [np.float32(9925.0)], [], [], [], [], [], [], [], [], [], [], [], [], [], [], [], [], [], [], [], [], [], [], [np.float32(6575.0)], [], [], [], [], [], [], [], [], [], [], [], [], [], [], [], [], [], [], [], [np.float32(2725.0)], [], [], [np.float32(7350.0)], [], [], [], [], [np.float32(11400.0)], [], [], [], [], [], [], [], [], [], [], [], [], [], [], [], [], [], [], [], [], [], [], [], [], [], [], [], [], [], [], [], [], [], [], [], [], [], [np.float32(6900.0)], [], [], [], [], [], [], [np.float32(8650.0)], [], [], [], [], [], [np.float32(6825.0)], [], [], [], [], [], [], [], [], [], [], [], [], [], [], [], [], [], [], [], [], [], [], [], [], [], [np.float32(6750.0)], [], [], [], [], [], [], [], [], [], [], [], [], [], [], [], [], [], [], [], [], [], [], [], [], [], [], [], [], [], [], [], [], [], [], [], [np.float32(10200.0)], [], [], [], [], [], [], [], []]\n"
     ]
    },
    {
     "name": "stderr",
     "output_type": "stream",
     "text": [
      "\n"
     ]
    }
   ],
   "source": [
    "a=muon_isolation_all_events(MuonTree_ZeroBias,0.4,[995,1200])\n",
    "print(a)"
   ]
  },
  {
   "cell_type": "code",
   "execution_count": null,
   "id": "803d4040",
   "metadata": {},
   "outputs": [],
   "source": []
  }
 ],
 "metadata": {
  "kernelspec": {
   "display_name": "thesis",
   "language": "python",
   "name": "python3"
  },
  "language_info": {
   "codemirror_mode": {
    "name": "ipython",
    "version": 3
   },
   "file_extension": ".py",
   "mimetype": "text/x-python",
   "name": "python",
   "nbconvert_exporter": "python",
   "pygments_lexer": "ipython3",
   "version": "3.13.2"
  }
 },
 "nbformat": 4,
 "nbformat_minor": 5
}
