{
 "cells": [
  {
   "cell_type": "code",
   "execution_count": 1,
   "id": "fdcf36db",
   "metadata": {},
   "outputs": [],
   "source": [
    "# %%\n",
    "from my_functions import *\n",
    "\n",
    "# %%\n",
    "file= uproot.open(\"/home/ruben/Escritorio/BachelorThesisRuben/Data/Muon_trees.root\") #opening the Root file with Uproot \n",
    "MuonTree_ZeroBias=file[\"MuonTree_ZeroBias;1\"]\n",
    "MuonTree_Zmumu=file[\"MuonTree_Zmumu;1\"]"
   ]
  },
  {
   "cell_type": "code",
   "execution_count": 2,
   "id": "7748223a",
   "metadata": {},
   "outputs": [
    {
     "ename": "NameError",
     "evalue": "name 'res1' is not defined",
     "output_type": "error",
     "traceback": [
      "\u001b[31m---------------------------------------------------------------------------\u001b[39m",
      "\u001b[31mNameError\u001b[39m                                 Traceback (most recent call last)",
      "\u001b[36mCell\u001b[39m\u001b[36m \u001b[39m\u001b[32mIn[2]\u001b[39m\u001b[32m, line 14\u001b[39m\n\u001b[32m     11\u001b[39m pt2=MuonTree_Zmumu[\u001b[33m\"\u001b[39m\u001b[33mmuon_pt\u001b[39m\u001b[33m\"\u001b[39m].array()[\u001b[32m0\u001b[39m:\u001b[32m1000\u001b[39m]\n\u001b[32m     13\u001b[39m \u001b[38;5;66;03m#make res1 and res2 awkard arrays and not lists\u001b[39;00m\n\u001b[32m---> \u001b[39m\u001b[32m14\u001b[39m res1=ak.Array(\u001b[43mres1\u001b[49m)\n\u001b[32m     15\u001b[39m res2=ak.Array(res2)\n\u001b[32m     16\u001b[39m mask = (ak.num(pt1) == ak.num(res1))\n",
      "\u001b[31mNameError\u001b[39m: name 'res1' is not defined"
     ]
    }
   ],
   "source": [
    "\"\"\"\n",
    "In this part I'm going to plot the ratio of isolated energy / transverse energy (or approximately, pt)\n",
    "\n",
    "Since I'm not using the full dataset, I must select only the respective events for pt1 and pt2, otherwise the lenghts will no be the same\n",
    "and the data will not match. Also, the length of the events may not be the same, due to the delta r threshold, that rules out some events.\n",
    "To make sure that I'm dividing elements with the same shape, I create the boolean mask\n",
    "\"\"\"\n",
    "#for zero bias i'm using events 12000 to 14000\n",
    "pt1=MuonTree_ZeroBias[\"muon_pt\"].array()[12000:14000]\n",
    "#for z mumu i'm using events 0 to 1000\n",
    "pt2=MuonTree_Zmumu[\"muon_pt\"].array()[0:1000]\n",
    "\n",
    "#make res1 and res2 awkard arrays and not lists\n",
    "res1=ak.Array(res1)\n",
    "res2=ak.Array(res2)\n",
    "mask = (ak.num(pt1) == ak.num(res1))\n",
    "\n",
    "res1_mask=res1[mask]\n",
    "pt1_mask=pt1[mask]\n",
    "\n",
    "data1=res1_mask/pt1_mask\n",
    "\n",
    "mask = (ak.num(pt2) == ak.num(res2))\n",
    "res2_mask=res2[mask]\n",
    "pt2_mask=pt2[mask]\n",
    "\n",
    "data2=res2_mask/pt2_mask\n",
    "data2\n",
    "\n",
    "data1=ak.flatten(data1)\n",
    "data2=ak.flatten(data2)"
   ]
  },
  {
   "cell_type": "code",
   "execution_count": null,
   "id": "09fa9f81",
   "metadata": {},
   "outputs": [
    {
     "name": "stdout",
     "output_type": "stream",
     "text": [
      "Only 21.265 % of the data has been selected\n",
      "Only 21.265 % of the data has been selected\n",
      "Only 21.265 % of the data has been selected\n"
     ]
    },
    {
     "name": "stderr",
     "output_type": "stream",
     "text": [
      "100%|██████████| 42530/42530 [00:17<00:00, 2412.66it/s]\n"
     ]
    }
   ],
   "source": [
    "eta=quality_selector(MuonTree_Zmumu[\"muon_quality\"].array(),MuonTree_Zmumu[\"muon_eta\"].array(),0)\n",
    "phi=quality_selector(MuonTree_Zmumu[\"muon_quality\"].array(),MuonTree_Zmumu[\"muon_phi\"].array(),0)\n",
    "pt=quality_selector(MuonTree_Zmumu[\"muon_quality\"].array(),MuonTree_Zmumu[\"muon_pt\"].array(),0)\n",
    "\n",
    "Z_peak_pairs=get_all_Z_peak_pairs(pt,eta,phi)"
   ]
  },
  {
   "cell_type": "code",
   "execution_count": null,
   "id": "6106159d",
   "metadata": {},
   "outputs": [
    {
     "data": {
      "text/html": [
       "<pre>[[[3.03e+04, -1.4, -1.78], [2.67e+04, 1.05, 1.47]],\n",
       " [[4.63e+04, 0.73, 0.446], [3.31e+04, 1.64, -2.8]],\n",
       " [[4.25e+04, 0.0065, 0.387], [4.22e+04, -0.686, -2.87]],\n",
       " [[3.95e+04, -1.06, 0.224], [3.97e+04, -2.11, -2.86]],\n",
       " [[2.79e+04, -1.2, 3.05], [2.71e+04, 0.966, -0.137]],\n",
       " [[3.33e+04, -0.969, 2.77], [3.66e+04, -2.43, -0.521]],\n",
       " [[4.34e+04, 1.34, 2.45], [4.45e+04, 0.797, -0.617]],\n",
       " [[4.35e+04, -1.26, 0.157], [4.25e+04, -1.51, -3.05]],\n",
       " [[5.15e+04, -1.82, 2.85], [4.55e+04, -1.32, 0.137]],\n",
       " [[5.17e+04, -1.18, 2.77], [4.17e+04, -1.15, -0.101]],\n",
       " ...,\n",
       " [[3.82e+04, -0.366, 1.78], [3.4e+04, -2, -1.99]],\n",
       " [[3.81e+04, 1.63, -2.57], [3.92e+04, 0.259, 0.659]],\n",
       " [[4.31e+04, -0.588, 3.03], [4.27e+04, 0.299, -0.16]],\n",
       " [[4.52e+04, 0.204, -3.01], [3.77e+04, 1.13, 0.265]],\n",
       " [[4.99e+04, 1.66, 0.531], [4.11e+04, 1.58, -2.31]],\n",
       " [[4.69e+04, -0.705, 1.69], [3.88e+04, -1.57, -1.11]],\n",
       " [[4.64e+04, 2.02, -1.49], [4.69e+04, 2.13, 1.71]],\n",
       " [[5.72e+04, -0.0435, 2.09], [4.01e+04, -0.353, -1.59]],\n",
       " [[4.42e+04, 1.97, 1.44], [3.74e+04, 0.864, -1.87]]]\n",
       "--------------------------------------------------------\n",
       "backend: cpu\n",
       "nbytes: 3.0 MB\n",
       "type: 42530 * var * var * float64</pre>"
      ],
      "text/plain": [
       "<Array [[[3.03e+04, ..., -1.78], ...], ...] type='42530 * var * var * float64'>"
      ]
     },
     "execution_count": 24,
     "metadata": {},
     "output_type": "execute_result"
    }
   ],
   "source": [
    "Z_peak_pairs"
   ]
  },
  {
   "cell_type": "code",
   "execution_count": null,
   "id": "1af4b120",
   "metadata": {},
   "outputs": [
    {
     "name": "stderr",
     "output_type": "stream",
     "text": [
      "100%|██████████| 200000/200000 [01:07<00:00, 2970.28it/s]\n"
     ]
    },
    {
     "data": {
      "text/html": [
       "<pre>[[[], []],\n",
       " [[], []],\n",
       " [[], []],\n",
       " [[], []],\n",
       " [[], []],\n",
       " [[], []],\n",
       " [[], []],\n",
       " [[], []],\n",
       " [[], []],\n",
       " [[], []],\n",
       " ...,\n",
       " [[2.86e+03, 1.13, -1.84], [3.04e+03, 2.46, 2.21]],\n",
       " [[], []],\n",
       " [[], []],\n",
       " [[], []],\n",
       " [[], []],\n",
       " [[4.62e+03, -1.19, 1.49], [2.62e+03, 2.11, -1.59]],\n",
       " [[], []],\n",
       " [[], []],\n",
       " [[], []]]\n",
       "----------------------------------------------------\n",
       "backend: cpu\n",
       "nbytes: 6.4 MB\n",
       "type: 200000 * var * var * float64</pre>"
      ],
      "text/plain": [
       "<Array [[[], []], [[], []], ..., [[], []]] type='200000 * var * var * float64'>"
      ]
     },
     "execution_count": 25,
     "metadata": {},
     "output_type": "execute_result"
    }
   ],
   "source": [
    "eta=MuonTree_ZeroBias[\"muon_eta\"].array()\n",
    "phi=MuonTree_ZeroBias[\"muon_phi\"].array()\n",
    "pt=MuonTree_ZeroBias[\"muon_pt\"].array()\n",
    "\n",
    "Z_peak_pairs=get_all_Z_peak_pairs(pt,eta,phi)\n",
    "Z_peak_pairs"
   ]
  }
 ],
 "metadata": {
  "kernelspec": {
   "display_name": "thesis",
   "language": "python",
   "name": "python3"
  },
  "language_info": {
   "codemirror_mode": {
    "name": "ipython",
    "version": 3
   },
   "file_extension": ".py",
   "mimetype": "text/x-python",
   "name": "python",
   "nbconvert_exporter": "python",
   "pygments_lexer": "ipython3",
   "version": "3.13.2"
  }
 },
 "nbformat": 4,
 "nbformat_minor": 5
}
