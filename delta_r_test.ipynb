{
 "cells": [
  {
   "cell_type": "code",
   "execution_count": 1,
   "id": "37687cc7",
   "metadata": {},
   "outputs": [
    {
     "name": "stdout",
     "output_type": "stream",
     "text": [
      "Only 21.265 % of the data has been selected\n",
      "Only 21.265 % of the data has been selected\n",
      "Only 21.265 % of the data has been selected\n"
     ]
    }
   ],
   "source": [
    "import uproot\n",
    "import numpy as np #math and science package\n",
    "import scipy as sp #math and science package\n",
    "import awkward as ak #root files are usuallt awkward arrays \n",
    "import matplotlib.pyplot as plt #plot stuff\n",
    "import itertools\n",
    "from my_functions import *\n",
    "\n",
    "#Open the file\n",
    "file= uproot.open(\"/home/ruben/Escritorio/BachelorThesisRuben/Data/Muon_trees.root\")\n",
    "\n",
    "#Get both keys\n",
    "MuonTree_Zmumu=file[\"MuonTree_Zmumu;1\"]\n",
    "MuonTree_ZeroBias=file[\"MuonTree_ZeroBias;1\"] \n",
    "\n",
    "#Get eta, phi and pt\n",
    "eta=MuonTree_Zmumu[\"muon_eta\"].array()\n",
    "phi=MuonTree_Zmumu[\"muon_phi\"].array()\n",
    "pt=MuonTree_Zmumu[\"muon_pt\"].array()\n",
    "\n",
    "#Let's use 0 quality muons only to reduce significantly the computation time. \n",
    "data1=MuonTree_Zmumu[\"muon_quality\"].array() #save the quality vector\n",
    "value=0 #set desired quality to 0\n",
    "\n",
    "data2=MuonTree_Zmumu[\"muon_pt\"].array()\n",
    "pt=quality_selector(data1,data2,value)\n",
    "data2=MuonTree_Zmumu[\"muon_eta\"].array()\n",
    "eta=quality_selector(data1,data2,value)\n",
    "data2=MuonTree_Zmumu[\"muon_phi\"].array()\n",
    "phi=quality_selector(data1,data2,value)"
   ]
  },
  {
   "cell_type": "code",
   "execution_count": 2,
   "id": "34dcd3e2",
   "metadata": {},
   "outputs": [],
   "source": [
    "#This generates 3 arrays very similar to:\n",
    "\n",
    "# eta=MuonTree_Zmumu[\"muon_eta\"].array()\n",
    "# phi=MuonTree_Zmumu[\"muon_phi\"].array()\n",
    "# pt=MuonTree_Zmumu[\"muon_pt\"].array()\n",
    "\n",
    "#but that only contain pairs of data, because all events with more than two muons have been processed by pair_selector\n",
    "\n",
    "pt, eta, phi = get_pair_variables(pt,eta,phi)"
   ]
  },
  {
   "cell_type": "code",
   "execution_count": null,
   "id": "7a7d5581",
   "metadata": {},
   "outputs": [],
   "source": [
    "#With this function we get an array that contains the values of delta r for every event\n",
    "\n",
    "dr=get_all_delta_r(eta,phi)"
   ]
  },
  {
   "cell_type": "code",
   "execution_count": null,
   "id": "1f284188",
   "metadata": {},
   "outputs": [],
   "source": [
    "#Simple way to check how many event are below or above a certain threshold\n",
    "\n",
    "indices = np.where(dr < 0.4)[0]"
   ]
  },
  {
   "cell_type": "code",
   "execution_count": null,
   "id": "f7068c97",
   "metadata": {},
   "outputs": [],
   "source": [
    "#Get all delta phi\n",
    "\n",
    "res=get_all_delta_phi(phi)\n",
    "res"
   ]
  },
  {
   "cell_type": "code",
   "execution_count": null,
   "id": "9189f5bb",
   "metadata": {},
   "outputs": [
    {
     "data": {
      "text/plain": [
       "array([2.45366192, 0.91053247, 0.69205266, ..., 0.10599566, 0.30954356,\n",
       "       1.1087501 ], shape=(42530,))"
      ]
     },
     "execution_count": 3,
     "metadata": {},
     "output_type": "execute_result"
    }
   ],
   "source": [
    "#Get all delta eta\n",
    "\n",
    "res=get_all_delta_eta(eta)\n",
    "res"
   ]
  },
  {
   "cell_type": "code",
   "execution_count": null,
   "id": "8ef44ca9",
   "metadata": {},
   "outputs": [],
   "source": []
  }
 ],
 "metadata": {
  "kernelspec": {
   "display_name": "thesis",
   "language": "python",
   "name": "python3"
  },
  "language_info": {
   "codemirror_mode": {
    "name": "ipython",
    "version": 3
   },
   "file_extension": ".py",
   "mimetype": "text/x-python",
   "name": "python",
   "nbconvert_exporter": "python",
   "pygments_lexer": "ipython3",
   "version": "3.13.2"
  }
 },
 "nbformat": 4,
 "nbformat_minor": 5
}
