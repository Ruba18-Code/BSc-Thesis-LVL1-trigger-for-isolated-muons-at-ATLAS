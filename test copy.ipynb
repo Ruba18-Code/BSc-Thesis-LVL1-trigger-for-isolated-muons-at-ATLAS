{
 "cells": [
  {
   "cell_type": "code",
   "execution_count": 1,
   "metadata": {},
   "outputs": [],
   "source": [
    "from my_functions import*"
   ]
  },
  {
   "cell_type": "code",
   "execution_count": 2,
   "metadata": {},
   "outputs": [],
   "source": [
    "file= uproot.open(\"/home/ruben/Escritorio/BachelorThesisRuben/Data/Muon_trees.root\") #opening the Root file with Uproot "
   ]
  },
  {
   "cell_type": "code",
   "execution_count": 3,
   "metadata": {},
   "outputs": [
    {
     "name": "stderr",
     "output_type": "stream",
     "text": [
      "100%|██████████| 3900/3900 [00:04<00:00, 909.02it/s]\n",
      "100%|██████████| 3900/3900 [00:05<00:00, 680.82it/s]\n"
     ]
    }
   ],
   "source": [
    "MuonTree_ZeroBias=file[\"MuonTree_ZeroBias;1\"]\n",
    "MuonTree_Zmumu=file[\"MuonTree_Zmumu;1\"]\n",
    "\n",
    "#Select range of events\n",
    "nmin1=100\n",
    "nmax1=4000\n",
    "\n",
    "#Select quality 0 Z->mumu\n",
    "Zmumu_pt=quality_selector_with_empty(MuonTree_Zmumu[\"muon_quality\"].array(),MuonTree_Zmumu[\"muon_pt\"].array(),0)[nmin1:nmax1]\n",
    "Zmumu_eta=quality_selector_with_empty(MuonTree_Zmumu[\"muon_quality\"].array(),MuonTree_Zmumu[\"muon_eta\"].array(),0)[nmin1:nmax1]\n",
    "Zmumu_phi=quality_selector_with_empty(MuonTree_Zmumu[\"muon_quality\"].array(),MuonTree_Zmumu[\"muon_phi\"].array(),0)[nmin1:nmax1]\n",
    "#And select the Z peak pairs\n",
    "Zmumu_pt1, Zmumu_eta1, Zmumu_phi1= get_all_Z_peak_pairs(Zmumu_pt,Zmumu_eta,Zmumu_phi)\n",
    "#Select quality 0 Z->mumu\n",
    "Zmumu_pt=quality_selector(MuonTree_Zmumu[\"muon_quality\"].array(),MuonTree_Zmumu[\"muon_pt\"].array(),0)[nmin1:nmax1]\n",
    "Zmumu_eta=quality_selector(MuonTree_Zmumu[\"muon_quality\"].array(),MuonTree_Zmumu[\"muon_eta\"].array(),0)[nmin1:nmax1]\n",
    "Zmumu_phi=quality_selector(MuonTree_Zmumu[\"muon_quality\"].array(),MuonTree_Zmumu[\"muon_phi\"].array(),0)[nmin1:nmax1]\n",
    "#And select the Z peak pairs\n",
    "Zmumu_pt2, Zmumu_eta2, Zmumu_phi2 = get_all_Z_peak_pairs(Zmumu_pt,Zmumu_eta,Zmumu_phi)"
   ]
  },
  {
   "cell_type": "code",
   "execution_count": 4,
   "metadata": {},
   "outputs": [
    {
     "name": "stdout",
     "output_type": "stream",
     "text": [
      "[[6.39e+04, 2.61e+04], [], [], ..., [2.81e+04, 2.36e+04], [4.82e+04, 4.05e+04]]\n",
      "[[4.72e+04, 4.02e+04], [5.44e+04, 4.49e+04], ..., [...], [4.63e+04, 4.55e+04]]\n",
      "[[6.39e+04, 2.61e+04, 1.82e+04], [4.81e+04, ...], ..., [4.82e+04, 4.05e+04]]\n"
     ]
    }
   ],
   "source": [
    "print(Zmumu_pt1)\n",
    "print(Zmumu_pt2)\n",
    "print(MuonTree_Zmumu[\"muon_pt\"].array()[100:4000])"
   ]
  },
  {
   "cell_type": "code",
   "execution_count": 5,
   "metadata": {},
   "outputs": [
    {
     "name": "stdout",
     "output_type": "stream",
     "text": [
      "[[0, 0, 3], [0, 3], [1, 0], [0, 0, ..., 3], ..., [0, 3, 3], [0, 0, 3], [0, 0]]\n",
      "[[6.39e+04, 2.61e+04, 1.82e+04], [4.81e+04, ...], ..., [4.82e+04, 4.05e+04]]\n",
      "[[6.39e+04, 2.61e+04], [4.81e+04], ..., [2.81e+04, ...], [4.82e+04, 4.05e+04]]\n"
     ]
    }
   ],
   "source": [
    "print(MuonTree_Zmumu[\"muon_quality\"].array()[100:4000])\n",
    "value=0\n",
    "quality_data=MuonTree_Zmumu[\"muon_quality\"].array()[100:4000]\n",
    "muon_data=MuonTree_Zmumu[\"muon_pt\"].array()[100:4000]\n",
    "event_mask = quality_data == value\n",
    "selected_data = muon_data[event_mask]\n",
    "print(muon_data)\n",
    "print(selected_data)"
   ]
  },
  {
   "cell_type": "code",
   "execution_count": 6,
   "metadata": {},
   "outputs": [
    {
     "name": "stdout",
     "output_type": "stream",
     "text": [
      "energy_cut_keep_indices: 5.79% of events survived the cut.\n",
      "energy_cut_keep_indices: 5.79% of events survived the cut.\n",
      "energy_cut: Only 5.79% of the events have survived the cut with a lower cut of 14000 and no upper cut\n",
      "energy_cut: Only 5.79% of the events have survived the cut with a lower cut of 14000 and no upper cut\n",
      "energy_cut: Only 5.79% of the events have survived the cut with a lower cut of 14000 and no upper cut\n"
     ]
    }
   ],
   "source": [
    "MuonTree_ZeroBias=file[\"MuonTree_ZeroBias;1\"]\n",
    "MuonTree_Zmumu=file[\"MuonTree_Zmumu;1\"]\n",
    "\n",
    "nmin2=100\n",
    "nmax2=50000\n",
    "ZeroBias_eta1=energy_cut_with_empty(MuonTree_ZeroBias[\"muon_pt\"].array(), MuonTree_ZeroBias[\"muon_eta\"].array(), verbose=True)[nmin2:nmax2]\n",
    "ZeroBias_phi1=energy_cut_with_empty(MuonTree_ZeroBias[\"muon_pt\"].array(), MuonTree_ZeroBias[\"muon_phi\"].array(), verbose=True)[nmin2:nmax2]\n",
    "ZeroBias_pt1=energy_cut_with_empty(MuonTree_ZeroBias[\"muon_pt\"].array(), MuonTree_ZeroBias[\"muon_pt\"].array())[nmin2:nmax2]\n",
    "\n",
    "ZeroBias_eta2=energy_cut(MuonTree_ZeroBias[\"muon_pt\"].array(), MuonTree_ZeroBias[\"muon_eta\"].array())[nmin2:nmax2]\n",
    "ZeroBias_phi2=energy_cut(MuonTree_ZeroBias[\"muon_pt\"].array(), MuonTree_ZeroBias[\"muon_phi\"].array())[nmin2:nmax2]\n",
    "ZeroBias_pt2=energy_cut(MuonTree_ZeroBias[\"muon_pt\"].array(), MuonTree_ZeroBias[\"muon_pt\"].array())[nmin2:nmax2]"
   ]
  },
  {
   "cell_type": "code",
   "execution_count": 7,
   "metadata": {},
   "outputs": [
    {
     "name": "stdout",
     "output_type": "stream",
     "text": [
      "[[3.83e+04], [8.34e+05], [1.73e+04], ..., [8.03e+04], [7.81e+04], [1.78e+04]]\n",
      "[[], [], [], [], [], [], [], [], [], ..., [], [], [], [], [], [], [], [], []]\n",
      "[[], [], [], [], ..., [2.69e+03, 1.91e+03], [], [2.71e+03, 4.26e+03]]\n"
     ]
    }
   ],
   "source": [
    "print(ZeroBias_pt2)\n",
    "print(ZeroBias_pt1)\n",
    "print(MuonTree_ZeroBias[\"muon_pt\"].array()[nmin2:nmax2])"
   ]
  }
 ],
 "metadata": {
  "kernelspec": {
   "display_name": "thesis",
   "language": "python",
   "name": "python3"
  },
  "language_info": {
   "codemirror_mode": {
    "name": "ipython",
    "version": 3
   },
   "file_extension": ".py",
   "mimetype": "text/x-python",
   "name": "python",
   "nbconvert_exporter": "python",
   "pygments_lexer": "ipython3",
   "version": "3.13.2"
  }
 },
 "nbformat": 4,
 "nbformat_minor": 2
}
