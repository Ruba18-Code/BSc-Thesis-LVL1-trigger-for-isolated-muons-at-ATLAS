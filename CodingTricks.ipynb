{
 "cells": [
  {
   "cell_type": "markdown",
   "id": "3816bcd2",
   "metadata": {},
   "source": [
    "#### Zip \n",
    "\n",
    "With zip one can loop over more than one list at a time:"
   ]
  },
  {
   "cell_type": "code",
   "execution_count": 8,
   "id": "d0cb3303",
   "metadata": {},
   "outputs": [
    {
     "name": "stdout",
     "output_type": "stream",
     "text": [
      "(1, 3, 9)\n",
      "(2, 4, 2)\n",
      "(3, 5, 4)\n",
      "(4, 6, 5)\n"
     ]
    }
   ],
   "source": [
    "g=[1,2,3,4]\n",
    "h=[3,4,5,6]\n",
    "j=[9,2,4,5]\n",
    "for i in zip(g,h,j):\n",
    "    print(i)"
   ]
  },
  {
   "cell_type": "markdown",
   "id": "3b1dc3bd",
   "metadata": {},
   "source": [
    "### Unpacking\n",
    "\n",
    "Unpacking is a useful technique to obtain the elements of an array"
   ]
  },
  {
   "cell_type": "code",
   "execution_count": 9,
   "id": "f7ce63bc",
   "metadata": {},
   "outputs": [
    {
     "name": "stdout",
     "output_type": "stream",
     "text": [
      "[1, 2]\n",
      "[3, 4]\n"
     ]
    }
   ],
   "source": [
    "v=([1,2],[3,4])\n",
    "element1, element2 = v\n",
    "\n",
    "print(element1)\n",
    "print(element2)"
   ]
  },
  {
   "cell_type": "markdown",
   "id": "f4a1bfe7",
   "metadata": {},
   "source": [
    "There are three (or more) ways to do things"
   ]
  },
  {
   "cell_type": "code",
   "execution_count": 10,
   "id": "171a1f59",
   "metadata": {},
   "outputs": [
    {
     "name": "stdout",
     "output_type": "stream",
     "text": [
      "1\n",
      "2\n",
      "3\n",
      "4\n",
      "5\n"
     ]
    },
    {
     "data": {
      "text/plain": [
       "[None, None, None, None, None]"
      ]
     },
     "execution_count": 10,
     "metadata": {},
     "output_type": "execute_result"
    }
   ],
   "source": [
    "#The pythonic way\n",
    "\n",
    "arr=[1,2,3,4,5]\n",
    "\n",
    "[print(i) for i in arr]"
   ]
  },
  {
   "cell_type": "code",
   "execution_count": 11,
   "id": "d019a45e",
   "metadata": {},
   "outputs": [
    {
     "name": "stdout",
     "output_type": "stream",
     "text": [
      "1\n",
      "2\n",
      "3\n",
      "4\n",
      "5\n"
     ]
    }
   ],
   "source": [
    "#The normal (?) way\n",
    "for i in arr:\n",
    "    print(i)"
   ]
  },
  {
   "cell_type": "code",
   "execution_count": 12,
   "id": "8d4e049f",
   "metadata": {},
   "outputs": [
    {
     "name": "stdout",
     "output_type": "stream",
     "text": [
      "1\n",
      "2\n",
      "3\n",
      "4\n",
      "5\n"
     ]
    },
    {
     "data": {
      "text/plain": [
       "[None, None, None, None, None]"
      ]
     },
     "execution_count": 12,
     "metadata": {},
     "output_type": "execute_result"
    }
   ],
   "source": [
    "#Fuctional programming\n",
    "\n",
    "list(map(print, arr))"
   ]
  }
 ],
 "metadata": {
  "kernelspec": {
   "display_name": "thesis",
   "language": "python",
   "name": "python3"
  },
  "language_info": {
   "codemirror_mode": {
    "name": "ipython",
    "version": 3
   },
   "file_extension": ".py",
   "mimetype": "text/x-python",
   "name": "python",
   "nbconvert_exporter": "python",
   "pygments_lexer": "ipython3",
   "version": "3.13.2"
  }
 },
 "nbformat": 4,
 "nbformat_minor": 5
}
