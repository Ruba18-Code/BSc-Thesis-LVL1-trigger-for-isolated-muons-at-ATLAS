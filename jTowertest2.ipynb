{
 "cells": [
  {
   "cell_type": "code",
   "execution_count": 11,
   "id": "10af2a07",
   "metadata": {},
   "outputs": [],
   "source": [
    "from my_functions import *"
   ]
  },
  {
   "cell_type": "code",
   "execution_count": 12,
   "id": "afd94eeb",
   "metadata": {},
   "outputs": [],
   "source": [
    "from numba import njit"
   ]
  },
  {
   "cell_type": "code",
   "execution_count": null,
   "id": "1bf219a4",
   "metadata": {},
   "outputs": [
    {
     "name": "stderr",
     "output_type": "stream",
     "text": [
      "  0%|          | 0/2 [00:00<?, ?it/s]"
     ]
    }
   ],
   "source": [
    "\n",
    "file= uproot.open(\"/home/ruben/Escritorio/BachelorThesisRuben/Data/Muon_trees.root\") #opening the Root file with Uproot \n",
    "MuonTree_ZeroBias=file[\"MuonTree_ZeroBias;1\"]\n",
    "MuonTree_Zmumu=file[\"MuonTree_Zmumu;1\"]\n",
    "\n",
    "\n",
    "muon_eta_all=MuonTree_ZeroBias[\"LVL1Muon_eta\"].array()\n",
    "muon_phi_all=MuonTree_ZeroBias[\"LVL1Muon_phi\"].array()\n",
    "\n",
    "res1=muon_isolation_all_events(MuonTree_ZeroBias,muon_eta_all,muon_phi_all,0.4,[0,10000],5000)\n",
    "# %%\n",
    "muon_eta_all=MuonTree_Zmumu[\"LVL1Muon_eta\"].array()\n",
    "muon_phi_all=MuonTree_Zmumu[\"LVL1Muon_phi\"].array()\n",
    "\n",
    "res2=res=muon_isolation_all_events(MuonTree_Zmumu,muon_eta_all,muon_phi_all,0.4,[0,1000],500)\n",
    "\n",
    "data1=ak.flatten(res1)\n",
    "data2=ak.flatten(res2)\n",
    "\n",
    "colors=['b','r']\n",
    "labels=[r\"Zero Bias LVL1 muons\",r\"Z $\\longrightarrow \\mu \\mu$ LVL1 muons\"]\n",
    "\n",
    "coolplot([data1,data2],np.linspace(0,30000,25),colors,labels,\"Energy (MeV)\",\"Counts\",\"Energy histogram isolated muons ATLAS detector\")"
   ]
  }
 ],
 "metadata": {
  "kernelspec": {
   "display_name": "thesis",
   "language": "python",
   "name": "python3"
  },
  "language_info": {
   "codemirror_mode": {
    "name": "ipython",
    "version": 3
   },
   "file_extension": ".py",
   "mimetype": "text/x-python",
   "name": "python",
   "nbconvert_exporter": "python",
   "pygments_lexer": "ipython3",
   "version": "3.13.2"
  }
 },
 "nbformat": 4,
 "nbformat_minor": 5
}
